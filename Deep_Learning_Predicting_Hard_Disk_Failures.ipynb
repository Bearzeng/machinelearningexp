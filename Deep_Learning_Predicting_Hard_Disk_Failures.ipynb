{
 "cells": [
  {
   "cell_type": "markdown",
   "metadata": {},
   "source": [
    "# 00. Intro & Goal"
   ]
  },
  {
   "cell_type": "markdown",
   "metadata": {},
   "source": [
    "Disk Failure Prediction Notebook\n",
    "* Notebook @author Lukasz Kamieniecki-Mruk, lucas.mlexp@gmail.com, http://machinelearningexp.com\n",
    "* Notebook License: Creative Commons CC-BY-SA https://creativecommons.org/licenses/by-sa/4.0/\n",
    "* Dataset source: https://www.backblaze.com/b2/hard-drive-test-data.html\n",
    "* Dataset license: As per Backblaze statement: \"You can download and use this data for free for your own purpose, all we ask is three things 1) you cite Backblaze as the source if you use the data, 2) you accept that you are solely responsible for how you use the data, and 3) you do not sell this data to anyone, it is free.\"\n",
    "* Dataset dates: years 2015 - 2017"
   ]
  },
  {
   "cell_type": "markdown",
   "metadata": {},
   "source": [
    "Your R&D task is the following:\n",
    "\n",
    "1. Use Backblaze data for one of the most popular disk model in the dataset to build demo prediction classifier for the disk failure\n",
    "2. Model should use LSTM Deep Learning networks. \n",
    "3. Model should be evaluated in details using classification report\n",
    "4. Model will be successful if it will allow to find faling disk at least 2 days in advance (to ensure safe replacement)\n",
    "\n",
    "NOTE: This notebook is CPU and memory consuming. You have been warned 🙂"
   ]
  },
  {
   "cell_type": "markdown",
   "metadata": {},
   "source": [
    "# 01. Params & imports"
   ]
  },
  {
   "cell_type": "code",
   "execution_count": 1,
   "metadata": {},
   "outputs": [
    {
     "name": "stderr",
     "output_type": "stream",
     "text": [
      "Using TensorFlow backend.\n"
     ]
    }
   ],
   "source": [
    "import os\n",
    "import gc\n",
    "import fileinput\n",
    "import math\n",
    "import random\n",
    "from random import shuffle, randrange\n",
    "import numpy as np\n",
    "import pandas as pd\n",
    "import matplotlib.pyplot as plt\n",
    "from sklearn.utils import shuffle\n",
    "from sklearn import preprocessing\n",
    "from sklearn.utils import shuffle\n",
    "from sklearn.metrics import classification_report\n",
    "import tensorflow as tf\n",
    "from keras.models import Sequential\n",
    "from keras.layers import Dense\n",
    "from keras.layers import LSTM\n",
    "from keras import regularizers,optimizers"
   ]
  },
  {
   "cell_type": "code",
   "execution_count": 2,
   "metadata": {},
   "outputs": [],
   "source": [
    "# params\n",
    "data_dir = \"./data/\"\n",
    "raw_data_dir = data_dir + 'raw_data'\n",
    "merged_data_dir = data_dir + 'merged_data'\n",
    "pretrain_data_dir = data_dir + 'pretrain_data'\n",
    "train_data_dir = data_dir + 'train_data'"
   ]
  },
  {
   "cell_type": "markdown",
   "metadata": {},
   "source": [
    "# 02. Data preprocessing"
   ]
  },
  {
   "cell_type": "markdown",
   "metadata": {},
   "source": [
    "It is very important what Backblaze writes on the data page (quote) : \"Reported stats for the same SMART stat can vary in meaning based on the drive manufacturer and the drive model. Make sure you are comparing apples-to-apples as drive manufacturers don't generally disclose what their specific numbers mean.\"\n",
    "Therefore, we cannot compare different disk types. For this reason, I decided to select one specific model for my analysis. The model I have selected (\"ST4000DM000\") is quite popular in the dataset and provides enough data for my analysis. You can try different model if you like; just make sure it provides enough data."
   ]
  },
  {
   "cell_type": "code",
   "execution_count": 3,
   "metadata": {},
   "outputs": [],
   "source": [
    "chosen_disk_model = 'ST4000DM000'\n",
    "merged_file_path = merged_data_dir+'/merged_data_2015_2017.csv'"
   ]
  },
  {
   "cell_type": "markdown",
   "metadata": {},
   "source": [
    "My \"raw_data_dir\" has 17,6 GB of data and contains 1096 CSV files. The script belowe will scan all .csv files in raw data files and will keep only first header and then only rows that contain our chosen_disk_model. As a result, we will get single merged CSV file containing only rows for our chosen_disk_model."
   ]
  },
  {
   "cell_type": "code",
   "execution_count": 4,
   "metadata": {},
   "outputs": [
    {
     "name": "stdout",
     "output_type": "stream",
     "text": [
      "Files processed: 0 > 100 > 200 > 300 > 400 > 500 > 600 > 700 > 800 > 900 > 1000 > Completed\n"
     ]
    }
   ],
   "source": [
    "print ('Files processed',end =\": \")\n",
    "with open(merged_file_path, 'w') as out_file:\n",
    "    first_line = True\n",
    "    counter = 0\n",
    "    for in_file_name in os.listdir(raw_data_dir):\n",
    "        fcontent = open(os.path.join(raw_data_dir, in_file_name))\n",
    "        for line in fcontent:\n",
    "            if (first_line == True) or (('date,serial_number' not in line) and (chosen_disk_model in line)):\n",
    "                out_file.write(line)\n",
    "            first_line = False\n",
    "        fcontent.close()\n",
    "        if ((counter%100)==0): print (counter,end =\" > \")\n",
    "        counter += 1\n",
    "    print ('Completed')"
   ]
  },
  {
   "cell_type": "markdown",
   "metadata": {},
   "source": [
    "My merged file has around 8,15 GB of data. This is still a lot of data, at least for my machine. I want to create single Pandas dataframe for further processing.\n",
    "We need to process data in chunks and downcast numerical data to save memory.\n",
    "I decided also to drop columns with normalized data, I prefer to normalize data later myself."
   ]
  },
  {
   "cell_type": "code",
   "execution_count": 5,
   "metadata": {},
   "outputs": [
    {
     "data": {
      "text/plain": [
       "7"
      ]
     },
     "execution_count": 5,
     "metadata": {},
     "output_type": "execute_result"
    }
   ],
   "source": [
    "columns_names_text = 'date,serial_number,model,capacity_bytes,failure,smart_1_normalized,smart_1_raw,smart_2_normalized,smart_2_raw,smart_3_normalized,smart_3_raw,smart_4_normalized,smart_4_raw,smart_5_normalized,smart_5_raw,smart_7_normalized,smart_7_raw,smart_8_normalized,smart_8_raw,smart_9_normalized,smart_9_raw,smart_10_normalized,smart_10_raw,smart_11_normalized,smart_11_raw,smart_12_normalized,smart_12_raw,smart_13_normalized,smart_13_raw,smart_15_normalized,smart_15_raw,smart_22_normalized,smart_22_raw,smart_183_normalized,smart_183_raw,smart_184_normalized,smart_184_raw,smart_187_normalized,smart_187_raw,smart_188_normalized,smart_188_raw,smart_189_normalized,smart_189_raw,smart_190_normalized,smart_190_raw,smart_191_normalized,smart_191_raw,smart_192_normalized,smart_192_raw,smart_193_normalized,smart_193_raw,smart_194_normalized,smart_194_raw,smart_195_normalized,smart_195_raw,smart_196_normalized,smart_196_raw,smart_197_normalized,smart_197_raw,smart_198_normalized,smart_198_raw,smart_199_normalized,smart_199_raw,smart_200_normalized,smart_200_raw,smart_201_normalized,smart_201_raw,smart_220_normalized,smart_220_raw,smart_222_normalized,smart_222_raw,smart_223_normalized,smart_223_raw,smart_224_normalized,smart_224_raw,smart_225_normalized,smart_225_raw,smart_226_normalized,smart_226_raw,smart_240_normalized,smart_240_raw,smart_241_normalized,smart_241_raw,smart_242_normalized,smart_242_raw,smart_250_normalized,smart_250_raw,smart_251_normalized,smart_251_raw,smart_252_normalized,smart_252_raw,smart_254_normalized,smart_254_raw,smart_255_normalized,smart_255_raw'\n",
    "columns_names = columns_names_text.split(',')\n",
    "columns_to_drop = [col for col in columns_names if '_normalized' in col]\n",
    "gc.collect()"
   ]
  },
  {
   "cell_type": "markdown",
   "metadata": {},
   "source": [
    "Be patient, this step can consume a lot of memory and be slow."
   ]
  },
  {
   "cell_type": "code",
   "execution_count": 6,
   "metadata": {},
   "outputs": [
    {
     "name": "stdout",
     "output_type": "stream",
     "text": [
      "Chunks: 50 > 100 > 150 > 200 > 250 > 300 > Completed\n"
     ]
    }
   ],
   "source": [
    "chunksize = 10 ** 5\n",
    "chunks_list = list()\n",
    "print ('Chunks: ',end =\"\")\n",
    "for chunk in pd.read_csv(merged_file_path, header = 0 ,names=columns_names, chunksize=chunksize, low_memory=False):\n",
    "    chunk = chunk.drop(columns_to_drop, axis=1)\n",
    "    chunk_first_rows = chunk.iloc[:,0:4]\n",
    "    chunk_num_rows = chunk.iloc[:,4:].fillna(0)\n",
    "    chunk_num_rows = chunk_num_rows.astype('int64')\n",
    "    chunk_num_rows = chunk_num_rows.apply(pd.to_numeric,downcast='integer')\n",
    "    chunk_all = chunk_first_rows.join(chunk_num_rows)\n",
    "    chunks_list.append(chunk_all)\n",
    "    if ((len(chunks_list)%50)==0): print (len(chunks_list), end=\" > \")\n",
    "    gc.collect() \n",
    "print ('Completed')"
   ]
  },
  {
   "cell_type": "markdown",
   "metadata": {},
   "source": [
    "Now we will a) merge all chunks into one dataframe b) drop columns with empty values c) generate column with weekday and d) save it to pickle file."
   ]
  },
  {
   "cell_type": "code",
   "execution_count": 7,
   "metadata": {},
   "outputs": [
    {
     "data": {
      "text/html": [
       "<div>\n",
       "<style scoped>\n",
       "    .dataframe tbody tr th:only-of-type {\n",
       "        vertical-align: middle;\n",
       "    }\n",
       "\n",
       "    .dataframe tbody tr th {\n",
       "        vertical-align: top;\n",
       "    }\n",
       "\n",
       "    .dataframe thead th {\n",
       "        text-align: right;\n",
       "    }\n",
       "</style>\n",
       "<table border=\"1\" class=\"dataframe\">\n",
       "  <thead>\n",
       "    <tr style=\"text-align: right;\">\n",
       "      <th></th>\n",
       "      <th>date</th>\n",
       "      <th>weekday</th>\n",
       "      <th>serial_number</th>\n",
       "      <th>capacity_bytes</th>\n",
       "      <th>failure</th>\n",
       "      <th>smart_1_raw</th>\n",
       "      <th>smart_2_raw</th>\n",
       "      <th>smart_3_raw</th>\n",
       "      <th>smart_4_raw</th>\n",
       "      <th>smart_5_raw</th>\n",
       "      <th>smart_7_raw</th>\n",
       "      <th>smart_8_raw</th>\n",
       "    </tr>\n",
       "  </thead>\n",
       "  <tbody>\n",
       "    <tr>\n",
       "      <th>0</th>\n",
       "      <td>2016-09-10</td>\n",
       "      <td>5</td>\n",
       "      <td>S3000A9T</td>\n",
       "      <td>4000787030016</td>\n",
       "      <td>0</td>\n",
       "      <td>14415968</td>\n",
       "      <td>0</td>\n",
       "      <td>0</td>\n",
       "      <td>4</td>\n",
       "      <td>0</td>\n",
       "      <td>97797</td>\n",
       "      <td>0</td>\n",
       "    </tr>\n",
       "    <tr>\n",
       "      <th>1</th>\n",
       "      <td>2016-09-11</td>\n",
       "      <td>6</td>\n",
       "      <td>S3000A9T</td>\n",
       "      <td>4000787030016</td>\n",
       "      <td>1</td>\n",
       "      <td>57961664</td>\n",
       "      <td>0</td>\n",
       "      <td>0</td>\n",
       "      <td>4</td>\n",
       "      <td>0</td>\n",
       "      <td>256456</td>\n",
       "      <td>0</td>\n",
       "    </tr>\n",
       "    <tr>\n",
       "      <th>2</th>\n",
       "      <td>2017-06-03</td>\n",
       "      <td>5</td>\n",
       "      <td>S3000A9T</td>\n",
       "      <td>4000787030016</td>\n",
       "      <td>0</td>\n",
       "      <td>107687208</td>\n",
       "      <td>0</td>\n",
       "      <td>0</td>\n",
       "      <td>33</td>\n",
       "      <td>0</td>\n",
       "      <td>33158496</td>\n",
       "      <td>0</td>\n",
       "    </tr>\n",
       "    <tr>\n",
       "      <th>3</th>\n",
       "      <td>2017-06-04</td>\n",
       "      <td>6</td>\n",
       "      <td>S3000A9T</td>\n",
       "      <td>4000787030016</td>\n",
       "      <td>0</td>\n",
       "      <td>132850464</td>\n",
       "      <td>0</td>\n",
       "      <td>0</td>\n",
       "      <td>33</td>\n",
       "      <td>0</td>\n",
       "      <td>33315265</td>\n",
       "      <td>0</td>\n",
       "    </tr>\n",
       "    <tr>\n",
       "      <th>4</th>\n",
       "      <td>2017-06-05</td>\n",
       "      <td>0</td>\n",
       "      <td>S3000A9T</td>\n",
       "      <td>4000787030016</td>\n",
       "      <td>0</td>\n",
       "      <td>176573128</td>\n",
       "      <td>0</td>\n",
       "      <td>0</td>\n",
       "      <td>33</td>\n",
       "      <td>0</td>\n",
       "      <td>33376638</td>\n",
       "      <td>0</td>\n",
       "    </tr>\n",
       "  </tbody>\n",
       "</table>\n",
       "</div>"
      ],
      "text/plain": [
       "        date  weekday serial_number  capacity_bytes  failure  smart_1_raw  \\\n",
       "0 2016-09-10        5      S3000A9T   4000787030016        0     14415968   \n",
       "1 2016-09-11        6      S3000A9T   4000787030016        1     57961664   \n",
       "2 2017-06-03        5      S3000A9T   4000787030016        0    107687208   \n",
       "3 2017-06-04        6      S3000A9T   4000787030016        0    132850464   \n",
       "4 2017-06-05        0      S3000A9T   4000787030016        0    176573128   \n",
       "\n",
       "   smart_2_raw  smart_3_raw  smart_4_raw  smart_5_raw  smart_7_raw  \\\n",
       "0            0            0            4            0        97797   \n",
       "1            0            0            4            0       256456   \n",
       "2            0            0           33            0     33158496   \n",
       "3            0            0           33            0     33315265   \n",
       "4            0            0           33            0     33376638   \n",
       "\n",
       "   smart_8_raw  \n",
       "0            0  \n",
       "1            0  \n",
       "2            0  \n",
       "3            0  \n",
       "4            0  "
      ]
     },
     "execution_count": 7,
     "metadata": {},
     "output_type": "execute_result"
    }
   ],
   "source": [
    "reduced_df = pd.concat(chunks_list)\n",
    "reduced_df = reduced_df.dropna(axis=1)\n",
    "reduced_df['date'] = pd.to_datetime(reduced_df['date'])\n",
    "reduced_df.insert(1, 'weekday', reduced_df['date'].dt.dayofweek)\n",
    "reduced_df = reduced_df.sort_values(by=['serial_number','date'],axis=0)\n",
    "reduced_df = reduced_df.drop(columns=['model'])\n",
    "reduced_df = reduced_df.reset_index(drop=True)\n",
    "reduced_df.iloc[0:5,:12]"
   ]
  },
  {
   "cell_type": "code",
   "execution_count": 8,
   "metadata": {},
   "outputs": [],
   "source": [
    "reduced_df.to_pickle(pretrain_data_dir+'/pretrain_data_01.pkl')"
   ]
  },
  {
   "cell_type": "markdown",
   "metadata": {},
   "source": [
    "Let's clean some memory before further processing"
   ]
  },
  {
   "cell_type": "code",
   "execution_count": 9,
   "metadata": {},
   "outputs": [
    {
     "data": {
      "text/plain": [
       "80"
      ]
     },
     "execution_count": 9,
     "metadata": {},
     "output_type": "execute_result"
    }
   ],
   "source": [
    "del (reduced_df, chunks_list)\n",
    "gc.collect()"
   ]
  },
  {
   "cell_type": "markdown",
   "metadata": {},
   "source": [
    "# 03A. Training data prepration"
   ]
  },
  {
   "cell_type": "markdown",
   "metadata": {},
   "source": [
    "Let's load prepared data"
   ]
  },
  {
   "cell_type": "code",
   "execution_count": 10,
   "metadata": {},
   "outputs": [
    {
     "name": "stdout",
     "output_type": "stream",
     "text": [
      "Data shape:  (31414293, 50)\n"
     ]
    }
   ],
   "source": [
    "df = pd.read_pickle(pretrain_data_dir+'/pretrain_data_01.pkl')\n",
    "loaded_shape = df.shape\n",
    "print (\"Data shape: \",loaded_shape)\n",
    "df = df.sort_values(by=['serial_number','date'],axis=0,ascending=True)"
   ]
  },
  {
   "cell_type": "markdown",
   "metadata": {},
   "source": [
    "Hm, so we have over 31 million records. That is nice ..."
   ]
  },
  {
   "cell_type": "markdown",
   "metadata": {},
   "source": [
    "Now we will aggregate data to calculate number of failed and not failed disks. As number of not failed disks is probaby much higher than number of failed disks, we can remove some npn-failed disks to reduce dataset size."
   ]
  },
  {
   "cell_type": "code",
   "execution_count": 11,
   "metadata": {},
   "outputs": [
    {
     "data": {
      "text/html": [
       "<div>\n",
       "<style scoped>\n",
       "    .dataframe tbody tr th:only-of-type {\n",
       "        vertical-align: middle;\n",
       "    }\n",
       "\n",
       "    .dataframe tbody tr th {\n",
       "        vertical-align: top;\n",
       "    }\n",
       "\n",
       "    .dataframe thead th {\n",
       "        text-align: right;\n",
       "    }\n",
       "</style>\n",
       "<table border=\"1\" class=\"dataframe\">\n",
       "  <thead>\n",
       "    <tr style=\"text-align: right;\">\n",
       "      <th></th>\n",
       "      <th>date_count</th>\n",
       "      <th>failure_sum</th>\n",
       "    </tr>\n",
       "    <tr>\n",
       "      <th>serial_number</th>\n",
       "      <th></th>\n",
       "      <th></th>\n",
       "    </tr>\n",
       "  </thead>\n",
       "  <tbody>\n",
       "    <tr>\n",
       "      <th>Z305AQGZ</th>\n",
       "      <td>414</td>\n",
       "      <td>2</td>\n",
       "    </tr>\n",
       "    <tr>\n",
       "      <th>Z305PEAL</th>\n",
       "      <td>397</td>\n",
       "      <td>2</td>\n",
       "    </tr>\n",
       "    <tr>\n",
       "      <th>S300WEE9</th>\n",
       "      <td>597</td>\n",
       "      <td>2</td>\n",
       "    </tr>\n",
       "    <tr>\n",
       "      <th>W3005047</th>\n",
       "      <td>148</td>\n",
       "      <td>1</td>\n",
       "    </tr>\n",
       "    <tr>\n",
       "      <th>Z301ZQH4</th>\n",
       "      <td>312</td>\n",
       "      <td>1</td>\n",
       "    </tr>\n",
       "  </tbody>\n",
       "</table>\n",
       "</div>"
      ],
      "text/plain": [
       "               date_count  failure_sum\n",
       "serial_number                         \n",
       "Z305AQGZ              414            2\n",
       "Z305PEAL              397            2\n",
       "S300WEE9              597            2\n",
       "W3005047              148            1\n",
       "Z301ZQH4              312            1"
      ]
     },
     "execution_count": 11,
     "metadata": {},
     "output_type": "execute_result"
    }
   ],
   "source": [
    "df_aggregate = (df[['date','serial_number','failure']].groupby('serial_number',as_index = True)\n",
    "                .agg({'date':'count', 'failure':'sum'})\n",
    "                .rename(columns={'date': 'date_count', 'failure': 'failure_sum'})\n",
    "                .sort_values(by=['failure_sum'],axis=0,ascending=False))\n",
    "df_aggregate.head(5)"
   ]
  },
  {
   "cell_type": "markdown",
   "metadata": {},
   "source": [
    "As you can see, some disks failed more than once. We have to be careful when processing data."
   ]
  },
  {
   "cell_type": "code",
   "execution_count": 12,
   "metadata": {},
   "outputs": [
    {
     "name": "stdout",
     "output_type": "stream",
     "text": [
      "number of disks :  36700\n",
      "number of failed disks:  2587\n",
      "percentage of broken disks:  7.049046321525886 %\n"
     ]
    }
   ],
   "source": [
    "all_count = df_aggregate.shape[0]\n",
    "broken_count = df_aggregate[df_aggregate.iloc[:, 1] >= 1].shape[0]\n",
    "print ('number of disks : ',all_count)\n",
    "print ('number of failed disks: ',broken_count)\n",
    "print ('percentage of broken disks: ',broken_count/all_count*100,'%' )"
   ]
  },
  {
   "cell_type": "code",
   "execution_count": 13,
   "metadata": {},
   "outputs": [
    {
     "data": {
      "image/png": "[encoded data removed]",
      "text/plain": [
       "<matplotlib.figure.Figure at 0x271a4142940>"
      ]
     },
     "metadata": {},
     "output_type": "display_data"
    }
   ],
   "source": [
    "labels = ['Failed disks','Non-failed disks']\n",
    "shares = [broken_count,all_count-broken_count] \n",
    "plt.pie(shares,explode=(0.2,0),labels=labels,autopct='%.0f%%',shadow=True,)\n",
    "plt.show()"
   ]
  },
  {
   "cell_type": "markdown",
   "metadata": {},
   "source": [
    "Broken disks constitute only ~7% of all disks. In order to balance classes and reduce dataset size, we can decrease number of not failed disks. The parameter num_ok_delta defines how many more not failed individual disks (than failed) we will leave in the dataset as to ensure more variability in this class.\n",
    "NOTE: This step is not exactly necessary (if you have enough memory on your machine). During further processing I ensure again that number of \"not failed\" samples corresponds roughly to number of \"failed\" samples. "
   ]
  },
  {
   "cell_type": "code",
   "execution_count": 14,
   "metadata": {},
   "outputs": [
    {
     "data": {
      "text/plain": [
       "(5349516, 50)"
      ]
     },
     "execution_count": 14,
     "metadata": {},
     "output_type": "execute_result"
    }
   ],
   "source": [
    "num_ok_delta = 2000\n",
    "df_broken = df_aggregate[df_aggregate['failure_sum']>0].index.values\n",
    "df_ok = df_aggregate[df_aggregate['failure_sum']==0].sample(n=(df_broken.shape[0]+num_ok_delta)).index.values\n",
    "selected_disks = np.concatenate((df_broken, df_ok), axis=0)\n",
    "df = df.loc[df.serial_number.isin(selected_disks)]\n",
    "reduced_shape = df.shape\n",
    "reduced_shape"
   ]
  },
  {
   "cell_type": "code",
   "execution_count": 15,
   "metadata": {},
   "outputs": [
    {
     "name": "stdout",
     "output_type": "stream",
     "text": [
      "dataset size reduction:  82 %\n"
     ]
    }
   ],
   "source": [
    "print (\"dataset size reduction: \",int(100*((loaded_shape[0] - reduced_shape[0])/loaded_shape[0])),\"%\")"
   ]
  },
  {
   "cell_type": "code",
   "execution_count": 16,
   "metadata": {},
   "outputs": [
    {
     "data": {
      "text/plain": [
       "1937"
      ]
     },
     "execution_count": 16,
     "metadata": {},
     "output_type": "execute_result"
    }
   ],
   "source": [
    "del df_aggregate, df_broken, df_ok, selected_disks\n",
    "gc.collect()"
   ]
  },
  {
   "cell_type": "markdown",
   "metadata": {},
   "source": [
    "Now we will add a few empty columns that will help us in further processing.\n",
    "* fails_soon - this will be our key target column. It tells \"the disk will fail in the next N days (N being our parameter)\" \n",
    "* seq_id - sequence is one series of disk history: from the first event in our dataset till: either last recorded event or failure. As we have noticed, some disks failed twice. They will have two different sequence ids then (one for each sequence).\n",
    "* work_day - consecutive number showing number of days disk is working (for a given sequence). Numbering starts from 1.\n",
    "* max_work_day - maximal work_day in a sequence. This is a helper parameter for further processing.\n",
    "* final_failure - information whether disk finally failed (1) or not (0). This is also helper parameter that will help in further processing.\n",
    "\n",
    "The \"helper\" parameters, although repeat the same data for a moment, will allow us to keep processing linear and avoid \"nested loops/quadratic processing\"."
   ]
  },
  {
   "cell_type": "code",
   "execution_count": 17,
   "metadata": {},
   "outputs": [
    {
     "data": {
      "text/html": [
       "<div>\n",
       "<style scoped>\n",
       "    .dataframe tbody tr th:only-of-type {\n",
       "        vertical-align: middle;\n",
       "    }\n",
       "\n",
       "    .dataframe tbody tr th {\n",
       "        vertical-align: top;\n",
       "    }\n",
       "\n",
       "    .dataframe thead th {\n",
       "        text-align: right;\n",
       "    }\n",
       "</style>\n",
       "<table border=\"1\" class=\"dataframe\">\n",
       "  <thead>\n",
       "    <tr style=\"text-align: right;\">\n",
       "      <th></th>\n",
       "      <th>date</th>\n",
       "      <th>weekday</th>\n",
       "      <th>serial_number</th>\n",
       "      <th>capacity_bytes</th>\n",
       "      <th>failure</th>\n",
       "      <th>fails_soon</th>\n",
       "      <th>seq_id</th>\n",
       "      <th>work_day</th>\n",
       "      <th>max_work_day</th>\n",
       "      <th>final_failure</th>\n",
       "      <th>smart_1_raw</th>\n",
       "      <th>smart_2_raw</th>\n",
       "    </tr>\n",
       "  </thead>\n",
       "  <tbody>\n",
       "    <tr>\n",
       "      <th>0</th>\n",
       "      <td>2016-09-10</td>\n",
       "      <td>5</td>\n",
       "      <td>S3000A9T</td>\n",
       "      <td>4000787030016</td>\n",
       "      <td>0</td>\n",
       "      <td>NaN</td>\n",
       "      <td>NaN</td>\n",
       "      <td>NaN</td>\n",
       "      <td>NaN</td>\n",
       "      <td>NaN</td>\n",
       "      <td>14415968</td>\n",
       "      <td>0</td>\n",
       "    </tr>\n",
       "    <tr>\n",
       "      <th>1</th>\n",
       "      <td>2016-09-11</td>\n",
       "      <td>6</td>\n",
       "      <td>S3000A9T</td>\n",
       "      <td>4000787030016</td>\n",
       "      <td>1</td>\n",
       "      <td>NaN</td>\n",
       "      <td>NaN</td>\n",
       "      <td>NaN</td>\n",
       "      <td>NaN</td>\n",
       "      <td>NaN</td>\n",
       "      <td>57961664</td>\n",
       "      <td>0</td>\n",
       "    </tr>\n",
       "    <tr>\n",
       "      <th>2</th>\n",
       "      <td>2017-06-03</td>\n",
       "      <td>5</td>\n",
       "      <td>S3000A9T</td>\n",
       "      <td>4000787030016</td>\n",
       "      <td>0</td>\n",
       "      <td>NaN</td>\n",
       "      <td>NaN</td>\n",
       "      <td>NaN</td>\n",
       "      <td>NaN</td>\n",
       "      <td>NaN</td>\n",
       "      <td>107687208</td>\n",
       "      <td>0</td>\n",
       "    </tr>\n",
       "    <tr>\n",
       "      <th>3</th>\n",
       "      <td>2017-06-04</td>\n",
       "      <td>6</td>\n",
       "      <td>S3000A9T</td>\n",
       "      <td>4000787030016</td>\n",
       "      <td>0</td>\n",
       "      <td>NaN</td>\n",
       "      <td>NaN</td>\n",
       "      <td>NaN</td>\n",
       "      <td>NaN</td>\n",
       "      <td>NaN</td>\n",
       "      <td>132850464</td>\n",
       "      <td>0</td>\n",
       "    </tr>\n",
       "    <tr>\n",
       "      <th>4</th>\n",
       "      <td>2017-06-05</td>\n",
       "      <td>0</td>\n",
       "      <td>S3000A9T</td>\n",
       "      <td>4000787030016</td>\n",
       "      <td>0</td>\n",
       "      <td>NaN</td>\n",
       "      <td>NaN</td>\n",
       "      <td>NaN</td>\n",
       "      <td>NaN</td>\n",
       "      <td>NaN</td>\n",
       "      <td>176573128</td>\n",
       "      <td>0</td>\n",
       "    </tr>\n",
       "  </tbody>\n",
       "</table>\n",
       "</div>"
      ],
      "text/plain": [
       "        date  weekday serial_number  capacity_bytes  failure  fails_soon  \\\n",
       "0 2016-09-10        5      S3000A9T   4000787030016        0         NaN   \n",
       "1 2016-09-11        6      S3000A9T   4000787030016        1         NaN   \n",
       "2 2017-06-03        5      S3000A9T   4000787030016        0         NaN   \n",
       "3 2017-06-04        6      S3000A9T   4000787030016        0         NaN   \n",
       "4 2017-06-05        0      S3000A9T   4000787030016        0         NaN   \n",
       "\n",
       "   seq_id  work_day  max_work_day  final_failure  smart_1_raw  smart_2_raw  \n",
       "0     NaN       NaN           NaN            NaN     14415968            0  \n",
       "1     NaN       NaN           NaN            NaN     57961664            0  \n",
       "2     NaN       NaN           NaN            NaN    107687208            0  \n",
       "3     NaN       NaN           NaN            NaN    132850464            0  \n",
       "4     NaN       NaN           NaN            NaN    176573128            0  "
      ]
     },
     "execution_count": 17,
     "metadata": {},
     "output_type": "execute_result"
    }
   ],
   "source": [
    "df = df.sort_values(by=['serial_number','date'],axis=0,ascending=True)\n",
    "df.insert(5, 'fails_soon', np.nan)\n",
    "df.insert(6, 'seq_id', np.nan)\n",
    "df.insert(7, 'work_day', np.nan)\n",
    "df.insert(8, 'max_work_day', np.nan)\n",
    "df.insert(9, 'final_failure', np.nan)\n",
    "df.iloc[0:5,:12]"
   ]
  },
  {
   "cell_type": "markdown",
   "metadata": {},
   "source": [
    "Now we will sort data by disk serial number and date ascending. This is very important step for next processing loop."
   ]
  },
  {
   "cell_type": "code",
   "execution_count": 18,
   "metadata": {},
   "outputs": [],
   "source": [
    "df = df.sort_values(by=['serial_number','date'],axis=0,ascending=True)"
   ]
  },
  {
   "cell_type": "markdown",
   "metadata": {},
   "source": [
    "The next loop will go through the whole dataset and:\n",
    "* once encounters new disk, it will set parameters specifically for beginning of a new sequence (see code)\n",
    "* if continues current sequence, it will just increment current working day and set current sequence id\n",
    "\n",
    "As a result of this script, two newly added columns will be filled in: seq_id and work_day"
   ]
  },
  {
   "cell_type": "code",
   "execution_count": 19,
   "metadata": {},
   "outputs": [
    {
     "name": "stdout",
     "output_type": "stream",
     "text": [
      "0 % > 9 % > 18 % > 28 % > 37 % > 46 % > 56 % > 65 % > 74 % > 84 % > 93 % > completed\n"
     ]
    }
   ],
   "source": [
    "curr_serial_number = None\n",
    "prev_failure = 0\n",
    "observ_seq_id = 0\n",
    "counter = 0\n",
    "for idx,data in df.iterrows():\n",
    "    if (data['serial_number'] != curr_serial_number) or (prev_failure == 1):\n",
    "        curr_serial_number = data['serial_number']\n",
    "        curr_work_day = 1\n",
    "        observ_seq_id += 1\n",
    "    else:\n",
    "        curr_work_day += 1\n",
    "    df.at[idx, 'seq_id'] = observ_seq_id\n",
    "    df.at[idx, 'work_day'] = curr_work_day\n",
    "    prev_failure = data['failure'] \n",
    "    # print status every 0.5 million rows processed\n",
    "    if (counter%500000==0): print (int(counter*100/df.shape[0]),'%',end =\" > \")\n",
    "    counter += 1\n",
    "print (\"completed\")"
   ]
  },
  {
   "cell_type": "markdown",
   "metadata": {},
   "source": [
    "This is our dataset head after first processing loop"
   ]
  },
  {
   "cell_type": "code",
   "execution_count": 20,
   "metadata": {},
   "outputs": [
    {
     "data": {
      "text/html": [
       "<div>\n",
       "<style scoped>\n",
       "    .dataframe tbody tr th:only-of-type {\n",
       "        vertical-align: middle;\n",
       "    }\n",
       "\n",
       "    .dataframe tbody tr th {\n",
       "        vertical-align: top;\n",
       "    }\n",
       "\n",
       "    .dataframe thead th {\n",
       "        text-align: right;\n",
       "    }\n",
       "</style>\n",
       "<table border=\"1\" class=\"dataframe\">\n",
       "  <thead>\n",
       "    <tr style=\"text-align: right;\">\n",
       "      <th></th>\n",
       "      <th>date</th>\n",
       "      <th>weekday</th>\n",
       "      <th>serial_number</th>\n",
       "      <th>capacity_bytes</th>\n",
       "      <th>failure</th>\n",
       "      <th>fails_soon</th>\n",
       "      <th>seq_id</th>\n",
       "      <th>work_day</th>\n",
       "      <th>max_work_day</th>\n",
       "      <th>final_failure</th>\n",
       "      <th>smart_1_raw</th>\n",
       "      <th>smart_2_raw</th>\n",
       "    </tr>\n",
       "  </thead>\n",
       "  <tbody>\n",
       "    <tr>\n",
       "      <th>0</th>\n",
       "      <td>2016-09-10</td>\n",
       "      <td>5</td>\n",
       "      <td>S3000A9T</td>\n",
       "      <td>4000787030016</td>\n",
       "      <td>0</td>\n",
       "      <td>NaN</td>\n",
       "      <td>1.0</td>\n",
       "      <td>1.0</td>\n",
       "      <td>NaN</td>\n",
       "      <td>NaN</td>\n",
       "      <td>14415968</td>\n",
       "      <td>0</td>\n",
       "    </tr>\n",
       "    <tr>\n",
       "      <th>1</th>\n",
       "      <td>2016-09-11</td>\n",
       "      <td>6</td>\n",
       "      <td>S3000A9T</td>\n",
       "      <td>4000787030016</td>\n",
       "      <td>1</td>\n",
       "      <td>NaN</td>\n",
       "      <td>1.0</td>\n",
       "      <td>2.0</td>\n",
       "      <td>NaN</td>\n",
       "      <td>NaN</td>\n",
       "      <td>57961664</td>\n",
       "      <td>0</td>\n",
       "    </tr>\n",
       "    <tr>\n",
       "      <th>2</th>\n",
       "      <td>2017-06-03</td>\n",
       "      <td>5</td>\n",
       "      <td>S3000A9T</td>\n",
       "      <td>4000787030016</td>\n",
       "      <td>0</td>\n",
       "      <td>NaN</td>\n",
       "      <td>2.0</td>\n",
       "      <td>1.0</td>\n",
       "      <td>NaN</td>\n",
       "      <td>NaN</td>\n",
       "      <td>107687208</td>\n",
       "      <td>0</td>\n",
       "    </tr>\n",
       "    <tr>\n",
       "      <th>3</th>\n",
       "      <td>2017-06-04</td>\n",
       "      <td>6</td>\n",
       "      <td>S3000A9T</td>\n",
       "      <td>4000787030016</td>\n",
       "      <td>0</td>\n",
       "      <td>NaN</td>\n",
       "      <td>2.0</td>\n",
       "      <td>2.0</td>\n",
       "      <td>NaN</td>\n",
       "      <td>NaN</td>\n",
       "      <td>132850464</td>\n",
       "      <td>0</td>\n",
       "    </tr>\n",
       "    <tr>\n",
       "      <th>4</th>\n",
       "      <td>2017-06-05</td>\n",
       "      <td>0</td>\n",
       "      <td>S3000A9T</td>\n",
       "      <td>4000787030016</td>\n",
       "      <td>0</td>\n",
       "      <td>NaN</td>\n",
       "      <td>2.0</td>\n",
       "      <td>3.0</td>\n",
       "      <td>NaN</td>\n",
       "      <td>NaN</td>\n",
       "      <td>176573128</td>\n",
       "      <td>0</td>\n",
       "    </tr>\n",
       "  </tbody>\n",
       "</table>\n",
       "</div>"
      ],
      "text/plain": [
       "        date  weekday serial_number  capacity_bytes  failure  fails_soon  \\\n",
       "0 2016-09-10        5      S3000A9T   4000787030016        0         NaN   \n",
       "1 2016-09-11        6      S3000A9T   4000787030016        1         NaN   \n",
       "2 2017-06-03        5      S3000A9T   4000787030016        0         NaN   \n",
       "3 2017-06-04        6      S3000A9T   4000787030016        0         NaN   \n",
       "4 2017-06-05        0      S3000A9T   4000787030016        0         NaN   \n",
       "\n",
       "   seq_id  work_day  max_work_day  final_failure  smart_1_raw  smart_2_raw  \n",
       "0     1.0       1.0           NaN            NaN     14415968            0  \n",
       "1     1.0       2.0           NaN            NaN     57961664            0  \n",
       "2     2.0       1.0           NaN            NaN    107687208            0  \n",
       "3     2.0       2.0           NaN            NaN    132850464            0  \n",
       "4     2.0       3.0           NaN            NaN    176573128            0  "
      ]
     },
     "execution_count": 20,
     "metadata": {},
     "output_type": "execute_result"
    }
   ],
   "source": [
    "df.iloc[0:5,:12]"
   ]
  },
  {
   "cell_type": "markdown",
   "metadata": {},
   "source": [
    "Cause this step takes a lot of time, we will save result into interim picke file. You will be able to load this interim file and rerun next steps without generating these data again."
   ]
  },
  {
   "cell_type": "code",
   "execution_count": 21,
   "metadata": {},
   "outputs": [],
   "source": [
    "df.to_pickle(pretrain_data_dir+'/pretrain_data_02.pkl')"
   ]
  },
  {
   "cell_type": "code",
   "execution_count": 22,
   "metadata": {},
   "outputs": [],
   "source": [
    "df = pd.read_pickle(pretrain_data_dir+'/pretrain_data_02.pkl')"
   ]
  },
  {
   "cell_type": "markdown",
   "metadata": {},
   "source": [
    "Now we need to sort data again. This time, each sequence will be sorted from last working day to first working day (in descending order). Thanks to that, our next processing script will know what happened with disk at the end - did it fail or not?"
   ]
  },
  {
   "cell_type": "code",
   "execution_count": 23,
   "metadata": {},
   "outputs": [],
   "source": [
    "df = df.sort_values(by=['seq_id','work_day'],axis=0,ascending=[True, False])"
   ]
  },
  {
   "cell_type": "markdown",
   "metadata": {},
   "source": [
    "These two parameters below are one of the key parameters of this excercise:\n",
    "* sample_days - defines how many days we want to have in each sample (sequence) that we will feed into LSTM network. LSTMs as recurrent networks can learn from sequences and we will take advantage of that. The longer the sequence in a single sample is, the more information about potential trend we provide to the network. But also, days that are more far away from the final failure day have less guidance in SMART parameters whether disk will fail or not, so they may mislead the network. \n",
    "* predict_failure_days - defines how many days before the failure day we treat as \"fails soon \"days. So you can think of it also as a \"warning flag\" - do you want to be warned about potential failure 3, 5 or 10 days before it happens? The bigger this parameter is, the more samples we can generate for training for \"failed\" disks. But, the same as for previous parameter, samples more \"far away\" from the failure day will have less info hidden in SMART parameters about potential trend.\n",
    "\n",
    "See the image below to understand how we will construct each sample. For LSTM networks, input has 3D structure (num_samples, timesteps, num_featutes). Each star \"*\" in the sample is one timestep with size of SMART num_features each.\n",
    "\n",
    "![title](sample_structure.png \"ShowMyImage\")"
   ]
  },
  {
   "cell_type": "code",
   "execution_count": 24,
   "metadata": {},
   "outputs": [],
   "source": [
    "sample_days = 5\n",
    "predict_failure_days = 5\n",
    "assert predict_failure_days >= sample_days"
   ]
  },
  {
   "cell_type": "markdown",
   "metadata": {},
   "source": [
    "This script will fill columns: max_work_day, final_failure and fails_soon. It will also remove sequences of data that are smaller (shorter) than sample_days. We cannot use too short sentences to train our network. This also means that we will be abpe to predict disk failure no sooner than after having sample_days items of data."
   ]
  },
  {
   "cell_type": "code",
   "execution_count": 25,
   "metadata": {},
   "outputs": [
    {
     "name": "stdout",
     "output_type": "stream",
     "text": [
      "0 % > 9 % > 18 % > 28 % > 37 % > 46 % > 56 % > 65 % > 74 % > 84 % > 93 % > completed\n"
     ]
    }
   ],
   "source": [
    "prev_observ_seq_id = None\n",
    "counter = 0\n",
    "remove_list = []\n",
    "for idx,data in df.iterrows():\n",
    "    if (prev_observ_seq_id != data['seq_id']):\n",
    "        max_working_day = data['work_day']\n",
    "        final_failure = data['failure']\n",
    "    if max_working_day >= sample_days:\n",
    "        df.at[idx, 'max_work_day'] = max_working_day\n",
    "        df.at[idx, 'final_failure'] = final_failure\n",
    "        if (final_failure == 1) and (data['work_day'] > (max_working_day - predict_failure_days)):\n",
    "            df.at[idx, 'fails_soon'] = 1\n",
    "        else:\n",
    "            df.at[idx, 'fails_soon'] = 0\n",
    "    else:\n",
    "        remove_list.append(idx)\n",
    "    prev_observ_seq_id = data['seq_id']\n",
    "    if (counter%500000==0): print (int(counter*100/df.shape[0]),'%',end =\" > \")\n",
    "    counter += 1\n",
    "df = df.drop(remove_list)\n",
    "df[['fails_soon','seq_id','work_day','max_work_day','final_failure']] = \\\n",
    "df[['fails_soon','seq_id','work_day','max_work_day','final_failure']].astype(int)\n",
    "print (\"completed\")"
   ]
  },
  {
   "cell_type": "code",
   "execution_count": 26,
   "metadata": {},
   "outputs": [
    {
     "data": {
      "text/html": [
       "<div>\n",
       "<style scoped>\n",
       "    .dataframe tbody tr th:only-of-type {\n",
       "        vertical-align: middle;\n",
       "    }\n",
       "\n",
       "    .dataframe tbody tr th {\n",
       "        vertical-align: top;\n",
       "    }\n",
       "\n",
       "    .dataframe thead th {\n",
       "        text-align: right;\n",
       "    }\n",
       "</style>\n",
       "<table border=\"1\" class=\"dataframe\">\n",
       "  <thead>\n",
       "    <tr style=\"text-align: right;\">\n",
       "      <th></th>\n",
       "      <th>date</th>\n",
       "      <th>weekday</th>\n",
       "      <th>serial_number</th>\n",
       "      <th>capacity_bytes</th>\n",
       "      <th>failure</th>\n",
       "      <th>fails_soon</th>\n",
       "      <th>seq_id</th>\n",
       "      <th>work_day</th>\n",
       "      <th>max_work_day</th>\n",
       "      <th>final_failure</th>\n",
       "      <th>smart_1_raw</th>\n",
       "      <th>smart_2_raw</th>\n",
       "    </tr>\n",
       "  </thead>\n",
       "  <tbody>\n",
       "    <tr>\n",
       "      <th>212</th>\n",
       "      <td>2017-12-31</td>\n",
       "      <td>6</td>\n",
       "      <td>S3000A9T</td>\n",
       "      <td>4000787030016</td>\n",
       "      <td>0</td>\n",
       "      <td>0</td>\n",
       "      <td>2</td>\n",
       "      <td>211</td>\n",
       "      <td>211</td>\n",
       "      <td>0</td>\n",
       "      <td>38941024</td>\n",
       "      <td>0</td>\n",
       "    </tr>\n",
       "    <tr>\n",
       "      <th>211</th>\n",
       "      <td>2017-12-30</td>\n",
       "      <td>5</td>\n",
       "      <td>S3000A9T</td>\n",
       "      <td>4000787030016</td>\n",
       "      <td>0</td>\n",
       "      <td>0</td>\n",
       "      <td>2</td>\n",
       "      <td>210</td>\n",
       "      <td>211</td>\n",
       "      <td>0</td>\n",
       "      <td>43226920</td>\n",
       "      <td>0</td>\n",
       "    </tr>\n",
       "    <tr>\n",
       "      <th>210</th>\n",
       "      <td>2017-12-29</td>\n",
       "      <td>4</td>\n",
       "      <td>S3000A9T</td>\n",
       "      <td>4000787030016</td>\n",
       "      <td>0</td>\n",
       "      <td>0</td>\n",
       "      <td>2</td>\n",
       "      <td>209</td>\n",
       "      <td>211</td>\n",
       "      <td>0</td>\n",
       "      <td>237129448</td>\n",
       "      <td>0</td>\n",
       "    </tr>\n",
       "    <tr>\n",
       "      <th>209</th>\n",
       "      <td>2017-12-28</td>\n",
       "      <td>3</td>\n",
       "      <td>S3000A9T</td>\n",
       "      <td>4000787030016</td>\n",
       "      <td>0</td>\n",
       "      <td>0</td>\n",
       "      <td>2</td>\n",
       "      <td>208</td>\n",
       "      <td>211</td>\n",
       "      <td>0</td>\n",
       "      <td>107965856</td>\n",
       "      <td>0</td>\n",
       "    </tr>\n",
       "    <tr>\n",
       "      <th>208</th>\n",
       "      <td>2017-12-27</td>\n",
       "      <td>2</td>\n",
       "      <td>S3000A9T</td>\n",
       "      <td>4000787030016</td>\n",
       "      <td>0</td>\n",
       "      <td>0</td>\n",
       "      <td>2</td>\n",
       "      <td>207</td>\n",
       "      <td>211</td>\n",
       "      <td>0</td>\n",
       "      <td>236818080</td>\n",
       "      <td>0</td>\n",
       "    </tr>\n",
       "  </tbody>\n",
       "</table>\n",
       "</div>"
      ],
      "text/plain": [
       "          date  weekday serial_number  capacity_bytes  failure  fails_soon  \\\n",
       "212 2017-12-31        6      S3000A9T   4000787030016        0           0   \n",
       "211 2017-12-30        5      S3000A9T   4000787030016        0           0   \n",
       "210 2017-12-29        4      S3000A9T   4000787030016        0           0   \n",
       "209 2017-12-28        3      S3000A9T   4000787030016        0           0   \n",
       "208 2017-12-27        2      S3000A9T   4000787030016        0           0   \n",
       "\n",
       "     seq_id  work_day  max_work_day  final_failure  smart_1_raw  smart_2_raw  \n",
       "212       2       211           211              0     38941024            0  \n",
       "211       2       210           211              0     43226920            0  \n",
       "210       2       209           211              0    237129448            0  \n",
       "209       2       208           211              0    107965856            0  \n",
       "208       2       207           211              0    236818080            0  "
      ]
     },
     "execution_count": 26,
     "metadata": {},
     "output_type": "execute_result"
    }
   ],
   "source": [
    "df.iloc[0:5,:12]"
   ]
  },
  {
   "cell_type": "markdown",
   "metadata": {},
   "source": [
    "And we save the interim results again."
   ]
  },
  {
   "cell_type": "code",
   "execution_count": 27,
   "metadata": {},
   "outputs": [],
   "source": [
    "df = df.sort_values(by=['seq_id','work_day'],axis=0,ascending=[True, True])\n",
    "df.to_pickle(pretrain_data_dir+'/pretrain_data_03.pkl')"
   ]
  },
  {
   "cell_type": "markdown",
   "metadata": {},
   "source": [
    "# 03B. LSTM Sample selection"
   ]
  },
  {
   "cell_type": "code",
   "execution_count": 60,
   "metadata": {},
   "outputs": [],
   "source": [
    "df = pd.read_pickle(pretrain_data_dir+'/pretrain_data_03.pkl')\n",
    "df = df.sort_values(by=['seq_id','work_day'],axis=0,ascending=[True, False])"
   ]
  },
  {
   "cell_type": "code",
   "execution_count": 61,
   "metadata": {},
   "outputs": [
    {
     "data": {
      "text/plain": [
       "17066"
      ]
     },
     "execution_count": 61,
     "metadata": {},
     "output_type": "execute_result"
    }
   ],
   "source": [
    "gc.collect()"
   ]
  },
  {
   "cell_type": "code",
   "execution_count": 62,
   "metadata": {},
   "outputs": [
    {
     "data": {
      "text/html": [
       "<div>\n",
       "<style scoped>\n",
       "    .dataframe tbody tr th:only-of-type {\n",
       "        vertical-align: middle;\n",
       "    }\n",
       "\n",
       "    .dataframe tbody tr th {\n",
       "        vertical-align: top;\n",
       "    }\n",
       "\n",
       "    .dataframe thead th {\n",
       "        text-align: right;\n",
       "    }\n",
       "</style>\n",
       "<table border=\"1\" class=\"dataframe\">\n",
       "  <thead>\n",
       "    <tr style=\"text-align: right;\">\n",
       "      <th></th>\n",
       "      <th>date</th>\n",
       "      <th>weekday</th>\n",
       "      <th>serial_number</th>\n",
       "      <th>capacity_bytes</th>\n",
       "      <th>failure</th>\n",
       "      <th>fails_soon</th>\n",
       "      <th>seq_id</th>\n",
       "      <th>work_day</th>\n",
       "      <th>max_work_day</th>\n",
       "      <th>final_failure</th>\n",
       "      <th>smart_1_raw</th>\n",
       "      <th>smart_2_raw</th>\n",
       "    </tr>\n",
       "  </thead>\n",
       "  <tbody>\n",
       "    <tr>\n",
       "      <th>212</th>\n",
       "      <td>2017-12-31</td>\n",
       "      <td>6</td>\n",
       "      <td>S3000A9T</td>\n",
       "      <td>4000787030016</td>\n",
       "      <td>0</td>\n",
       "      <td>0</td>\n",
       "      <td>2</td>\n",
       "      <td>211</td>\n",
       "      <td>211</td>\n",
       "      <td>0</td>\n",
       "      <td>38941024</td>\n",
       "      <td>0</td>\n",
       "    </tr>\n",
       "    <tr>\n",
       "      <th>211</th>\n",
       "      <td>2017-12-30</td>\n",
       "      <td>5</td>\n",
       "      <td>S3000A9T</td>\n",
       "      <td>4000787030016</td>\n",
       "      <td>0</td>\n",
       "      <td>0</td>\n",
       "      <td>2</td>\n",
       "      <td>210</td>\n",
       "      <td>211</td>\n",
       "      <td>0</td>\n",
       "      <td>43226920</td>\n",
       "      <td>0</td>\n",
       "    </tr>\n",
       "    <tr>\n",
       "      <th>210</th>\n",
       "      <td>2017-12-29</td>\n",
       "      <td>4</td>\n",
       "      <td>S3000A9T</td>\n",
       "      <td>4000787030016</td>\n",
       "      <td>0</td>\n",
       "      <td>0</td>\n",
       "      <td>2</td>\n",
       "      <td>209</td>\n",
       "      <td>211</td>\n",
       "      <td>0</td>\n",
       "      <td>237129448</td>\n",
       "      <td>0</td>\n",
       "    </tr>\n",
       "    <tr>\n",
       "      <th>209</th>\n",
       "      <td>2017-12-28</td>\n",
       "      <td>3</td>\n",
       "      <td>S3000A9T</td>\n",
       "      <td>4000787030016</td>\n",
       "      <td>0</td>\n",
       "      <td>0</td>\n",
       "      <td>2</td>\n",
       "      <td>208</td>\n",
       "      <td>211</td>\n",
       "      <td>0</td>\n",
       "      <td>107965856</td>\n",
       "      <td>0</td>\n",
       "    </tr>\n",
       "    <tr>\n",
       "      <th>208</th>\n",
       "      <td>2017-12-27</td>\n",
       "      <td>2</td>\n",
       "      <td>S3000A9T</td>\n",
       "      <td>4000787030016</td>\n",
       "      <td>0</td>\n",
       "      <td>0</td>\n",
       "      <td>2</td>\n",
       "      <td>207</td>\n",
       "      <td>211</td>\n",
       "      <td>0</td>\n",
       "      <td>236818080</td>\n",
       "      <td>0</td>\n",
       "    </tr>\n",
       "  </tbody>\n",
       "</table>\n",
       "</div>"
      ],
      "text/plain": [
       "          date  weekday serial_number  capacity_bytes  failure  fails_soon  \\\n",
       "212 2017-12-31        6      S3000A9T   4000787030016        0           0   \n",
       "211 2017-12-30        5      S3000A9T   4000787030016        0           0   \n",
       "210 2017-12-29        4      S3000A9T   4000787030016        0           0   \n",
       "209 2017-12-28        3      S3000A9T   4000787030016        0           0   \n",
       "208 2017-12-27        2      S3000A9T   4000787030016        0           0   \n",
       "\n",
       "     seq_id  work_day  max_work_day  final_failure  smart_1_raw  smart_2_raw  \n",
       "212       2       211           211              0     38941024            0  \n",
       "211       2       210           211              0     43226920            0  \n",
       "210       2       209           211              0    237129448            0  \n",
       "209       2       208           211              0    107965856            0  \n",
       "208       2       207           211              0    236818080            0  "
      ]
     },
     "execution_count": 62,
     "metadata": {},
     "output_type": "execute_result"
    }
   ],
   "source": [
    "df.iloc[0:5,:12]"
   ]
  },
  {
   "cell_type": "markdown",
   "metadata": {},
   "source": [
    "First we will select failed samples, so samples with disks for which we know they finally failed. This is the first step as in the next step we will select samples of disks that did not failed and both classes should be balanced."
   ]
  },
  {
   "cell_type": "code",
   "execution_count": 63,
   "metadata": {},
   "outputs": [
    {
     "name": "stdout",
     "output_type": "stream",
     "text": [
      "0 % > 9 % > 18 % > 28 % > 37 % > 46 % > 56 % > 65 % > 74 % > 84 % > 93 % > completed\n"
     ]
    }
   ],
   "source": [
    "## Sample data\n",
    "df_failed_samples = pd.DataFrame()\n",
    "failed_samples_list = []\n",
    "counter = 0\n",
    "for idx,data in df.iterrows():\n",
    "    if (data['fails_soon'] == 1) and (data['work_day'] >= sample_days):\n",
    "        int_loc = df.index.get_loc(idx)\n",
    "        failed_sample = df.iloc[int_loc:int_loc + sample_days]\n",
    "        failed_samples_list.append(failed_sample)\n",
    "    if (counter%500000==0): print (int(counter*100/df.shape[0]),'%',end =\" > \")\n",
    "    counter += 1\n",
    "df_failed_samples = df_failed_samples.append(failed_samples_list)\n",
    "df_failed_samples = df_failed_samples.reset_index(drop=True)\n",
    "df_failed_samples = df_failed_samples.sort_index(axis=0,ascending=False)\n",
    "print (\"completed\")"
   ]
  },
  {
   "cell_type": "code",
   "execution_count": 64,
   "metadata": {},
   "outputs": [
    {
     "data": {
      "text/html": [
       "<div>\n",
       "<style scoped>\n",
       "    .dataframe tbody tr th:only-of-type {\n",
       "        vertical-align: middle;\n",
       "    }\n",
       "\n",
       "    .dataframe tbody tr th {\n",
       "        vertical-align: top;\n",
       "    }\n",
       "\n",
       "    .dataframe thead th {\n",
       "        text-align: right;\n",
       "    }\n",
       "</style>\n",
       "<table border=\"1\" class=\"dataframe\">\n",
       "  <thead>\n",
       "    <tr style=\"text-align: right;\">\n",
       "      <th></th>\n",
       "      <th>date</th>\n",
       "      <th>weekday</th>\n",
       "      <th>serial_number</th>\n",
       "      <th>capacity_bytes</th>\n",
       "      <th>failure</th>\n",
       "      <th>fails_soon</th>\n",
       "      <th>seq_id</th>\n",
       "      <th>work_day</th>\n",
       "      <th>max_work_day</th>\n",
       "      <th>final_failure</th>\n",
       "      <th>smart_1_raw</th>\n",
       "      <th>smart_2_raw</th>\n",
       "    </tr>\n",
       "  </thead>\n",
       "  <tbody>\n",
       "    <tr>\n",
       "      <th>63639</th>\n",
       "      <td>2017-10-17</td>\n",
       "      <td>1</td>\n",
       "      <td>Z306MW5B</td>\n",
       "      <td>4000787030016</td>\n",
       "      <td>0</td>\n",
       "      <td>0</td>\n",
       "      <td>7212</td>\n",
       "      <td>419</td>\n",
       "      <td>427</td>\n",
       "      <td>1</td>\n",
       "      <td>166497128</td>\n",
       "      <td>0</td>\n",
       "    </tr>\n",
       "    <tr>\n",
       "      <th>63638</th>\n",
       "      <td>2017-10-18</td>\n",
       "      <td>2</td>\n",
       "      <td>Z306MW5B</td>\n",
       "      <td>4000787030016</td>\n",
       "      <td>0</td>\n",
       "      <td>0</td>\n",
       "      <td>7212</td>\n",
       "      <td>420</td>\n",
       "      <td>427</td>\n",
       "      <td>1</td>\n",
       "      <td>51905616</td>\n",
       "      <td>0</td>\n",
       "    </tr>\n",
       "    <tr>\n",
       "      <th>63637</th>\n",
       "      <td>2017-10-19</td>\n",
       "      <td>3</td>\n",
       "      <td>Z306MW5B</td>\n",
       "      <td>4000787030016</td>\n",
       "      <td>0</td>\n",
       "      <td>0</td>\n",
       "      <td>7212</td>\n",
       "      <td>421</td>\n",
       "      <td>427</td>\n",
       "      <td>1</td>\n",
       "      <td>147568504</td>\n",
       "      <td>0</td>\n",
       "    </tr>\n",
       "    <tr>\n",
       "      <th>63636</th>\n",
       "      <td>2017-10-20</td>\n",
       "      <td>4</td>\n",
       "      <td>Z306MW5B</td>\n",
       "      <td>4000787030016</td>\n",
       "      <td>0</td>\n",
       "      <td>0</td>\n",
       "      <td>7212</td>\n",
       "      <td>422</td>\n",
       "      <td>427</td>\n",
       "      <td>1</td>\n",
       "      <td>4599640</td>\n",
       "      <td>0</td>\n",
       "    </tr>\n",
       "    <tr>\n",
       "      <th>63635</th>\n",
       "      <td>2017-10-21</td>\n",
       "      <td>5</td>\n",
       "      <td>Z306MW5B</td>\n",
       "      <td>4000787030016</td>\n",
       "      <td>0</td>\n",
       "      <td>1</td>\n",
       "      <td>7212</td>\n",
       "      <td>423</td>\n",
       "      <td>427</td>\n",
       "      <td>1</td>\n",
       "      <td>95941328</td>\n",
       "      <td>0</td>\n",
       "    </tr>\n",
       "    <tr>\n",
       "      <th>63634</th>\n",
       "      <td>2017-10-18</td>\n",
       "      <td>2</td>\n",
       "      <td>Z306MW5B</td>\n",
       "      <td>4000787030016</td>\n",
       "      <td>0</td>\n",
       "      <td>0</td>\n",
       "      <td>7212</td>\n",
       "      <td>420</td>\n",
       "      <td>427</td>\n",
       "      <td>1</td>\n",
       "      <td>51905616</td>\n",
       "      <td>0</td>\n",
       "    </tr>\n",
       "    <tr>\n",
       "      <th>63633</th>\n",
       "      <td>2017-10-19</td>\n",
       "      <td>3</td>\n",
       "      <td>Z306MW5B</td>\n",
       "      <td>4000787030016</td>\n",
       "      <td>0</td>\n",
       "      <td>0</td>\n",
       "      <td>7212</td>\n",
       "      <td>421</td>\n",
       "      <td>427</td>\n",
       "      <td>1</td>\n",
       "      <td>147568504</td>\n",
       "      <td>0</td>\n",
       "    </tr>\n",
       "  </tbody>\n",
       "</table>\n",
       "</div>"
      ],
      "text/plain": [
       "            date  weekday serial_number  capacity_bytes  failure  fails_soon  \\\n",
       "63639 2017-10-17        1      Z306MW5B   4000787030016        0           0   \n",
       "63638 2017-10-18        2      Z306MW5B   4000787030016        0           0   \n",
       "63637 2017-10-19        3      Z306MW5B   4000787030016        0           0   \n",
       "63636 2017-10-20        4      Z306MW5B   4000787030016        0           0   \n",
       "63635 2017-10-21        5      Z306MW5B   4000787030016        0           1   \n",
       "63634 2017-10-18        2      Z306MW5B   4000787030016        0           0   \n",
       "63633 2017-10-19        3      Z306MW5B   4000787030016        0           0   \n",
       "\n",
       "       seq_id  work_day  max_work_day  final_failure  smart_1_raw  smart_2_raw  \n",
       "63639    7212       419           427              1    166497128            0  \n",
       "63638    7212       420           427              1     51905616            0  \n",
       "63637    7212       421           427              1    147568504            0  \n",
       "63636    7212       422           427              1      4599640            0  \n",
       "63635    7212       423           427              1     95941328            0  \n",
       "63634    7212       420           427              1     51905616            0  \n",
       "63633    7212       421           427              1    147568504            0  "
      ]
     },
     "execution_count": 64,
     "metadata": {},
     "output_type": "execute_result"
    }
   ],
   "source": [
    "df_failed_samples.iloc[0:7,:12]"
   ]
  },
  {
   "cell_type": "code",
   "execution_count": 65,
   "metadata": {},
   "outputs": [
    {
     "data": {
      "text/plain": [
       "63640"
      ]
     },
     "execution_count": 65,
     "metadata": {},
     "output_type": "execute_result"
    }
   ],
   "source": [
    "len(df_failed_samples)"
   ]
  },
  {
   "cell_type": "markdown",
   "metadata": {},
   "source": [
    "Now we will be selecting samples with non-failed disks (the same size as for failed ones). Please note that there are two \"types\" of non-failed samples 1) samples related to disks that never failed 2) samples related to disks that will fail but \"later\" that set by our horizon parameter \"predict_failure_days\". Such samples are not yet aware that their disk will fail. \n",
    "Cause here we have much more samples than in failed disks set, we will do the selection randomly to ensure better variability in data.\n",
    "We  also need to ensure that the same disk does not repeat too many times and that our random selection hits select different samples, not the same ones. Loop has control structures to ensure that."
   ]
  },
  {
   "cell_type": "code",
   "execution_count": 66,
   "metadata": {},
   "outputs": [
    {
     "name": "stdout",
     "output_type": "stream",
     "text": [
      "0 % > 39 % > 78 % > completed\n"
     ]
    }
   ],
   "source": [
    "failed_len = int(df_failed_samples.shape[0]/sample_days)\n",
    "df_len = df.shape[0]\n",
    "df_ok_samples = pd.DataFrame()\n",
    "ok_samples_list = []\n",
    "counter = 0\n",
    "used_disks_list = []\n",
    "used_offset_list = []\n",
    "max_same_disks = 2\n",
    "for i in range(failed_len):\n",
    "    selected_ok = False\n",
    "    while selected_ok == False:\n",
    "        ok_offset = random.randint(0, df_len-sample_days)\n",
    "        check_row = df.iloc[ok_offset]\n",
    "        if (check_row['fails_soon'] == 0) \\\n",
    "        and (check_row['work_day'] >= sample_days)\\\n",
    "        and (used_disks_list.count(check_row['serial_number']) <= max_same_disks)\\\n",
    "        and (ok_offset not in used_offset_list):\n",
    "            used_disks_list.append(check_row['serial_number'])\n",
    "            used_offset_list.append(ok_offset)\n",
    "            ok_sample = df.iloc[ok_offset:ok_offset+sample_days]\n",
    "            ok_samples_list.append(ok_sample)\n",
    "            selected_ok = True\n",
    "    if (counter%5000==0): print (int(counter*100/failed_len),'%',end =\" > \")\n",
    "    counter += 1\n",
    "del df\n",
    "gc.collect()\n",
    "df_ok_samples = df_ok_samples.append(ok_samples_list)\n",
    "df_ok_samples = df_ok_samples.reset_index(drop=True)\n",
    "df_ok_samples = df_ok_samples.sort_index(axis=0,ascending=False)\n",
    "print (\"completed\")"
   ]
  },
  {
   "cell_type": "code",
   "execution_count": 67,
   "metadata": {},
   "outputs": [
    {
     "data": {
      "text/html": [
       "<div>\n",
       "<style scoped>\n",
       "    .dataframe tbody tr th:only-of-type {\n",
       "        vertical-align: middle;\n",
       "    }\n",
       "\n",
       "    .dataframe tbody tr th {\n",
       "        vertical-align: top;\n",
       "    }\n",
       "\n",
       "    .dataframe thead th {\n",
       "        text-align: right;\n",
       "    }\n",
       "</style>\n",
       "<table border=\"1\" class=\"dataframe\">\n",
       "  <thead>\n",
       "    <tr style=\"text-align: right;\">\n",
       "      <th></th>\n",
       "      <th>date</th>\n",
       "      <th>weekday</th>\n",
       "      <th>serial_number</th>\n",
       "      <th>capacity_bytes</th>\n",
       "      <th>failure</th>\n",
       "      <th>fails_soon</th>\n",
       "      <th>seq_id</th>\n",
       "      <th>work_day</th>\n",
       "      <th>max_work_day</th>\n",
       "      <th>final_failure</th>\n",
       "      <th>smart_1_raw</th>\n",
       "      <th>smart_2_raw</th>\n",
       "    </tr>\n",
       "  </thead>\n",
       "  <tbody>\n",
       "    <tr>\n",
       "      <th>63639</th>\n",
       "      <td>2016-05-04</td>\n",
       "      <td>2</td>\n",
       "      <td>Z304K41P</td>\n",
       "      <td>4000787030016</td>\n",
       "      <td>0</td>\n",
       "      <td>0</td>\n",
       "      <td>5641</td>\n",
       "      <td>196</td>\n",
       "      <td>706</td>\n",
       "      <td>0</td>\n",
       "      <td>155674568</td>\n",
       "      <td>0</td>\n",
       "    </tr>\n",
       "    <tr>\n",
       "      <th>63638</th>\n",
       "      <td>2016-05-05</td>\n",
       "      <td>3</td>\n",
       "      <td>Z304K41P</td>\n",
       "      <td>4000787030016</td>\n",
       "      <td>0</td>\n",
       "      <td>0</td>\n",
       "      <td>5641</td>\n",
       "      <td>197</td>\n",
       "      <td>706</td>\n",
       "      <td>0</td>\n",
       "      <td>198631672</td>\n",
       "      <td>0</td>\n",
       "    </tr>\n",
       "    <tr>\n",
       "      <th>63637</th>\n",
       "      <td>2016-05-06</td>\n",
       "      <td>4</td>\n",
       "      <td>Z304K41P</td>\n",
       "      <td>4000787030016</td>\n",
       "      <td>0</td>\n",
       "      <td>0</td>\n",
       "      <td>5641</td>\n",
       "      <td>198</td>\n",
       "      <td>706</td>\n",
       "      <td>0</td>\n",
       "      <td>69089520</td>\n",
       "      <td>0</td>\n",
       "    </tr>\n",
       "    <tr>\n",
       "      <th>63636</th>\n",
       "      <td>2016-05-07</td>\n",
       "      <td>5</td>\n",
       "      <td>Z304K41P</td>\n",
       "      <td>4000787030016</td>\n",
       "      <td>0</td>\n",
       "      <td>0</td>\n",
       "      <td>5641</td>\n",
       "      <td>199</td>\n",
       "      <td>706</td>\n",
       "      <td>0</td>\n",
       "      <td>118052472</td>\n",
       "      <td>0</td>\n",
       "    </tr>\n",
       "    <tr>\n",
       "      <th>63635</th>\n",
       "      <td>2016-05-08</td>\n",
       "      <td>6</td>\n",
       "      <td>Z304K41P</td>\n",
       "      <td>4000787030016</td>\n",
       "      <td>0</td>\n",
       "      <td>0</td>\n",
       "      <td>5641</td>\n",
       "      <td>200</td>\n",
       "      <td>706</td>\n",
       "      <td>0</td>\n",
       "      <td>102301768</td>\n",
       "      <td>0</td>\n",
       "    </tr>\n",
       "    <tr>\n",
       "      <th>63634</th>\n",
       "      <td>2017-06-01</td>\n",
       "      <td>3</td>\n",
       "      <td>Z305DHVT</td>\n",
       "      <td>4000787030016</td>\n",
       "      <td>0</td>\n",
       "      <td>0</td>\n",
       "      <td>6753</td>\n",
       "      <td>474</td>\n",
       "      <td>686</td>\n",
       "      <td>0</td>\n",
       "      <td>140664320</td>\n",
       "      <td>0</td>\n",
       "    </tr>\n",
       "    <tr>\n",
       "      <th>63633</th>\n",
       "      <td>2017-06-02</td>\n",
       "      <td>4</td>\n",
       "      <td>Z305DHVT</td>\n",
       "      <td>4000787030016</td>\n",
       "      <td>0</td>\n",
       "      <td>0</td>\n",
       "      <td>6753</td>\n",
       "      <td>475</td>\n",
       "      <td>686</td>\n",
       "      <td>0</td>\n",
       "      <td>237657416</td>\n",
       "      <td>0</td>\n",
       "    </tr>\n",
       "  </tbody>\n",
       "</table>\n",
       "</div>"
      ],
      "text/plain": [
       "            date  weekday serial_number  capacity_bytes  failure  fails_soon  \\\n",
       "63639 2016-05-04        2      Z304K41P   4000787030016        0           0   \n",
       "63638 2016-05-05        3      Z304K41P   4000787030016        0           0   \n",
       "63637 2016-05-06        4      Z304K41P   4000787030016        0           0   \n",
       "63636 2016-05-07        5      Z304K41P   4000787030016        0           0   \n",
       "63635 2016-05-08        6      Z304K41P   4000787030016        0           0   \n",
       "63634 2017-06-01        3      Z305DHVT   4000787030016        0           0   \n",
       "63633 2017-06-02        4      Z305DHVT   4000787030016        0           0   \n",
       "\n",
       "       seq_id  work_day  max_work_day  final_failure  smart_1_raw  smart_2_raw  \n",
       "63639    5641       196           706              0    155674568            0  \n",
       "63638    5641       197           706              0    198631672            0  \n",
       "63637    5641       198           706              0     69089520            0  \n",
       "63636    5641       199           706              0    118052472            0  \n",
       "63635    5641       200           706              0    102301768            0  \n",
       "63634    6753       474           686              0    140664320            0  \n",
       "63633    6753       475           686              0    237657416            0  "
      ]
     },
     "execution_count": 67,
     "metadata": {},
     "output_type": "execute_result"
    }
   ],
   "source": [
    "df_ok_samples.iloc[0:7,:12]"
   ]
  },
  {
   "cell_type": "code",
   "execution_count": 68,
   "metadata": {},
   "outputs": [],
   "source": [
    "df_samples = pd.concat([df_failed_samples, df_ok_samples])\n",
    "df_samples = df_samples.reset_index(drop=True)"
   ]
  },
  {
   "cell_type": "code",
   "execution_count": 69,
   "metadata": {},
   "outputs": [],
   "source": [
    "df_samples.to_pickle(train_data_dir+'/LSTM_train_data.pkl')"
   ]
  },
  {
   "cell_type": "markdown",
   "metadata": {},
   "source": [
    "# 03C. LSTM Sample preparation"
   ]
  },
  {
   "cell_type": "markdown",
   "metadata": {},
   "source": [
    "Let's load our training data again."
   ]
  },
  {
   "cell_type": "code",
   "execution_count": 70,
   "metadata": {},
   "outputs": [
    {
     "data": {
      "text/plain": [
       "(127280, 55)"
      ]
     },
     "execution_count": 70,
     "metadata": {},
     "output_type": "execute_result"
    }
   ],
   "source": [
    "df = pd.read_pickle(train_data_dir+'/LSTM_train_data.pkl')\n",
    "df.shape"
   ]
  },
  {
   "cell_type": "code",
   "execution_count": 71,
   "metadata": {},
   "outputs": [
    {
     "data": {
      "text/html": [
       "<div>\n",
       "<style scoped>\n",
       "    .dataframe tbody tr th:only-of-type {\n",
       "        vertical-align: middle;\n",
       "    }\n",
       "\n",
       "    .dataframe tbody tr th {\n",
       "        vertical-align: top;\n",
       "    }\n",
       "\n",
       "    .dataframe thead th {\n",
       "        text-align: right;\n",
       "    }\n",
       "</style>\n",
       "<table border=\"1\" class=\"dataframe\">\n",
       "  <thead>\n",
       "    <tr style=\"text-align: right;\">\n",
       "      <th></th>\n",
       "      <th>date</th>\n",
       "      <th>weekday</th>\n",
       "      <th>serial_number</th>\n",
       "      <th>capacity_bytes</th>\n",
       "      <th>failure</th>\n",
       "      <th>fails_soon</th>\n",
       "      <th>seq_id</th>\n",
       "      <th>work_day</th>\n",
       "      <th>max_work_day</th>\n",
       "      <th>final_failure</th>\n",
       "      <th>smart_1_raw</th>\n",
       "      <th>smart_2_raw</th>\n",
       "    </tr>\n",
       "  </thead>\n",
       "  <tbody>\n",
       "    <tr>\n",
       "      <th>0</th>\n",
       "      <td>2017-10-17</td>\n",
       "      <td>1</td>\n",
       "      <td>Z306MW5B</td>\n",
       "      <td>4000787030016</td>\n",
       "      <td>0</td>\n",
       "      <td>0</td>\n",
       "      <td>7212</td>\n",
       "      <td>419</td>\n",
       "      <td>427</td>\n",
       "      <td>1</td>\n",
       "      <td>166497128</td>\n",
       "      <td>0</td>\n",
       "    </tr>\n",
       "    <tr>\n",
       "      <th>1</th>\n",
       "      <td>2017-10-18</td>\n",
       "      <td>2</td>\n",
       "      <td>Z306MW5B</td>\n",
       "      <td>4000787030016</td>\n",
       "      <td>0</td>\n",
       "      <td>0</td>\n",
       "      <td>7212</td>\n",
       "      <td>420</td>\n",
       "      <td>427</td>\n",
       "      <td>1</td>\n",
       "      <td>51905616</td>\n",
       "      <td>0</td>\n",
       "    </tr>\n",
       "    <tr>\n",
       "      <th>2</th>\n",
       "      <td>2017-10-19</td>\n",
       "      <td>3</td>\n",
       "      <td>Z306MW5B</td>\n",
       "      <td>4000787030016</td>\n",
       "      <td>0</td>\n",
       "      <td>0</td>\n",
       "      <td>7212</td>\n",
       "      <td>421</td>\n",
       "      <td>427</td>\n",
       "      <td>1</td>\n",
       "      <td>147568504</td>\n",
       "      <td>0</td>\n",
       "    </tr>\n",
       "    <tr>\n",
       "      <th>3</th>\n",
       "      <td>2017-10-20</td>\n",
       "      <td>4</td>\n",
       "      <td>Z306MW5B</td>\n",
       "      <td>4000787030016</td>\n",
       "      <td>0</td>\n",
       "      <td>0</td>\n",
       "      <td>7212</td>\n",
       "      <td>422</td>\n",
       "      <td>427</td>\n",
       "      <td>1</td>\n",
       "      <td>4599640</td>\n",
       "      <td>0</td>\n",
       "    </tr>\n",
       "    <tr>\n",
       "      <th>4</th>\n",
       "      <td>2017-10-21</td>\n",
       "      <td>5</td>\n",
       "      <td>Z306MW5B</td>\n",
       "      <td>4000787030016</td>\n",
       "      <td>0</td>\n",
       "      <td>1</td>\n",
       "      <td>7212</td>\n",
       "      <td>423</td>\n",
       "      <td>427</td>\n",
       "      <td>1</td>\n",
       "      <td>95941328</td>\n",
       "      <td>0</td>\n",
       "    </tr>\n",
       "  </tbody>\n",
       "</table>\n",
       "</div>"
      ],
      "text/plain": [
       "        date  weekday serial_number  capacity_bytes  failure  fails_soon  \\\n",
       "0 2017-10-17        1      Z306MW5B   4000787030016        0           0   \n",
       "1 2017-10-18        2      Z306MW5B   4000787030016        0           0   \n",
       "2 2017-10-19        3      Z306MW5B   4000787030016        0           0   \n",
       "3 2017-10-20        4      Z306MW5B   4000787030016        0           0   \n",
       "4 2017-10-21        5      Z306MW5B   4000787030016        0           1   \n",
       "\n",
       "   seq_id  work_day  max_work_day  final_failure  smart_1_raw  smart_2_raw  \n",
       "0    7212       419           427              1    166497128            0  \n",
       "1    7212       420           427              1     51905616            0  \n",
       "2    7212       421           427              1    147568504            0  \n",
       "3    7212       422           427              1      4599640            0  \n",
       "4    7212       423           427              1     95941328            0  "
      ]
     },
     "execution_count": 71,
     "metadata": {},
     "output_type": "execute_result"
    }
   ],
   "source": [
    "df.iloc[0:5,:12]"
   ]
  },
  {
   "cell_type": "markdown",
   "metadata": {},
   "source": [
    "We need to choose our train and test data smartly. I decided to do it by disk serial number. Separate individual disks will go to test and train set. This way, we have better guarantee that our LSTM model generalizes well and does not use knowledge from training data to predict test data.\n",
    "The traditional, alternative approach (select randomly sampes from the dataset) could cause that some samples would overlap and knowledge about future events could leak into test data."
   ]
  },
  {
   "cell_type": "markdown",
   "metadata": {},
   "source": [
    "Parameter test_disk_split decides, what percentage of all data should go to test data"
   ]
  },
  {
   "cell_type": "code",
   "execution_count": 72,
   "metadata": {},
   "outputs": [
    {
     "name": "stdout",
     "output_type": "stream",
     "text": [
      "no of train disks:  5373\n",
      "no of test disks:  1344\n"
     ]
    }
   ],
   "source": [
    "disks_list = shuffle(df['serial_number'].unique())\n",
    "test_disk_split = 0.2\n",
    "split_position = int((1-test_disk_split)*len(disks_list))\n",
    "train_disks_list = disks_list[:split_position]\n",
    "test_disks_list = disks_list[split_position:]\n",
    "print (\"no of train disks: \",len(train_disks_list))\n",
    "print (\"no of test disks: \",len(test_disks_list))"
   ]
  },
  {
   "cell_type": "markdown",
   "metadata": {},
   "source": [
    "Now we use train/test disk serial numbers to get separate dataset for test and train data"
   ]
  },
  {
   "cell_type": "code",
   "execution_count": 73,
   "metadata": {},
   "outputs": [],
   "source": [
    "df_train = df[df['serial_number'].isin(train_disks_list)]\n",
    "df_test = df[df['serial_number'].isin(test_disks_list)]"
   ]
  },
  {
   "cell_type": "code",
   "execution_count": 74,
   "metadata": {},
   "outputs": [],
   "source": [
    "# index data will hold disk serial numbers for relevant samples. We do not need serial numbers as training or testing features\n",
    "# train index data\n",
    "IDX_train = df_train.iloc[0:,[0,2]].values\n",
    "IDX_train = IDX_train[0::sample_days]\n",
    "# test index data\n",
    "IDX_test = df_test.iloc[0:,[0,2]].values\n",
    "IDX_test = IDX_test[0::sample_days]"
   ]
  },
  {
   "cell_type": "markdown",
   "metadata": {},
   "source": [
    "We remove all helper, technical columns and not needed columns and a target column from a features (X) set. As target column fails_soon is not a last column, we cannot easily slice it."
   ]
  },
  {
   "cell_type": "code",
   "execution_count": 75,
   "metadata": {},
   "outputs": [],
   "source": [
    "drop_columns_list = ['date','serial_number','failure','fails_soon','seq_id','max_work_day','final_failure']\n",
    "X_train = df_train.drop(columns=drop_columns_list)\n",
    "X_test = df_test.drop(columns=drop_columns_list)\n",
    "Y_train = df_train.iloc[:,5]\n",
    "Y_test = df_test.iloc[:,5]"
   ]
  },
  {
   "cell_type": "code",
   "execution_count": 76,
   "metadata": {},
   "outputs": [
    {
     "data": {
      "text/html": [
       "<div>\n",
       "<style scoped>\n",
       "    .dataframe tbody tr th:only-of-type {\n",
       "        vertical-align: middle;\n",
       "    }\n",
       "\n",
       "    .dataframe tbody tr th {\n",
       "        vertical-align: top;\n",
       "    }\n",
       "\n",
       "    .dataframe thead th {\n",
       "        text-align: right;\n",
       "    }\n",
       "</style>\n",
       "<table border=\"1\" class=\"dataframe\">\n",
       "  <thead>\n",
       "    <tr style=\"text-align: right;\">\n",
       "      <th></th>\n",
       "      <th>weekday</th>\n",
       "      <th>capacity_bytes</th>\n",
       "      <th>work_day</th>\n",
       "      <th>smart_1_raw</th>\n",
       "      <th>smart_2_raw</th>\n",
       "      <th>smart_3_raw</th>\n",
       "      <th>smart_4_raw</th>\n",
       "      <th>smart_5_raw</th>\n",
       "      <th>smart_7_raw</th>\n",
       "      <th>smart_8_raw</th>\n",
       "      <th>smart_9_raw</th>\n",
       "      <th>smart_10_raw</th>\n",
       "    </tr>\n",
       "  </thead>\n",
       "  <tbody>\n",
       "    <tr>\n",
       "      <th>50</th>\n",
       "      <td>6</td>\n",
       "      <td>4000787030016</td>\n",
       "      <td>131</td>\n",
       "      <td>103879304</td>\n",
       "      <td>0</td>\n",
       "      <td>0</td>\n",
       "      <td>4</td>\n",
       "      <td>0</td>\n",
       "      <td>98228901</td>\n",
       "      <td>0</td>\n",
       "      <td>3135</td>\n",
       "      <td>0</td>\n",
       "    </tr>\n",
       "    <tr>\n",
       "      <th>51</th>\n",
       "      <td>0</td>\n",
       "      <td>4000787030016</td>\n",
       "      <td>132</td>\n",
       "      <td>204068512</td>\n",
       "      <td>0</td>\n",
       "      <td>0</td>\n",
       "      <td>4</td>\n",
       "      <td>0</td>\n",
       "      <td>98925204</td>\n",
       "      <td>0</td>\n",
       "      <td>3159</td>\n",
       "      <td>0</td>\n",
       "    </tr>\n",
       "    <tr>\n",
       "      <th>52</th>\n",
       "      <td>1</td>\n",
       "      <td>4000787030016</td>\n",
       "      <td>133</td>\n",
       "      <td>100851520</td>\n",
       "      <td>0</td>\n",
       "      <td>0</td>\n",
       "      <td>4</td>\n",
       "      <td>0</td>\n",
       "      <td>99568277</td>\n",
       "      <td>0</td>\n",
       "      <td>3183</td>\n",
       "      <td>0</td>\n",
       "    </tr>\n",
       "    <tr>\n",
       "      <th>53</th>\n",
       "      <td>2</td>\n",
       "      <td>4000787030016</td>\n",
       "      <td>134</td>\n",
       "      <td>65844728</td>\n",
       "      <td>0</td>\n",
       "      <td>0</td>\n",
       "      <td>4</td>\n",
       "      <td>0</td>\n",
       "      <td>100275771</td>\n",
       "      <td>0</td>\n",
       "      <td>3207</td>\n",
       "      <td>0</td>\n",
       "    </tr>\n",
       "    <tr>\n",
       "      <th>54</th>\n",
       "      <td>3</td>\n",
       "      <td>4000787030016</td>\n",
       "      <td>135</td>\n",
       "      <td>90875048</td>\n",
       "      <td>0</td>\n",
       "      <td>0</td>\n",
       "      <td>4</td>\n",
       "      <td>0</td>\n",
       "      <td>100893021</td>\n",
       "      <td>0</td>\n",
       "      <td>3231</td>\n",
       "      <td>0</td>\n",
       "    </tr>\n",
       "  </tbody>\n",
       "</table>\n",
       "</div>"
      ],
      "text/plain": [
       "    weekday  capacity_bytes  work_day  smart_1_raw  smart_2_raw  smart_3_raw  \\\n",
       "50        6   4000787030016       131    103879304            0            0   \n",
       "51        0   4000787030016       132    204068512            0            0   \n",
       "52        1   4000787030016       133    100851520            0            0   \n",
       "53        2   4000787030016       134     65844728            0            0   \n",
       "54        3   4000787030016       135     90875048            0            0   \n",
       "\n",
       "    smart_4_raw  smart_5_raw  smart_7_raw  smart_8_raw  smart_9_raw  \\\n",
       "50            4            0     98228901            0         3135   \n",
       "51            4            0     98925204            0         3159   \n",
       "52            4            0     99568277            0         3183   \n",
       "53            4            0    100275771            0         3207   \n",
       "54            4            0    100893021            0         3231   \n",
       "\n",
       "    smart_10_raw  \n",
       "50             0  \n",
       "51             0  \n",
       "52             0  \n",
       "53             0  \n",
       "54             0  "
      ]
     },
     "execution_count": 76,
     "metadata": {},
     "output_type": "execute_result"
    }
   ],
   "source": [
    "X_train.iloc[0:5,:12]"
   ]
  },
  {
   "cell_type": "code",
   "execution_count": 77,
   "metadata": {},
   "outputs": [
    {
     "data": {
      "text/plain": [
       "50    0\n",
       "51    0\n",
       "52    0\n",
       "53    0\n",
       "54    1\n",
       "Name: fails_soon, dtype: int32"
      ]
     },
     "execution_count": 77,
     "metadata": {},
     "output_type": "execute_result"
    }
   ],
   "source": [
    "Y_train.iloc[0:5]"
   ]
  },
  {
   "cell_type": "code",
   "execution_count": 78,
   "metadata": {},
   "outputs": [
    {
     "data": {
      "text/html": [
       "<div>\n",
       "<style scoped>\n",
       "    .dataframe tbody tr th:only-of-type {\n",
       "        vertical-align: middle;\n",
       "    }\n",
       "\n",
       "    .dataframe tbody tr th {\n",
       "        vertical-align: top;\n",
       "    }\n",
       "\n",
       "    .dataframe thead th {\n",
       "        text-align: right;\n",
       "    }\n",
       "</style>\n",
       "<table border=\"1\" class=\"dataframe\">\n",
       "  <thead>\n",
       "    <tr style=\"text-align: right;\">\n",
       "      <th></th>\n",
       "      <th>weekday</th>\n",
       "      <th>capacity_bytes</th>\n",
       "      <th>work_day</th>\n",
       "      <th>smart_1_raw</th>\n",
       "      <th>smart_2_raw</th>\n",
       "      <th>smart_3_raw</th>\n",
       "      <th>smart_4_raw</th>\n",
       "      <th>smart_5_raw</th>\n",
       "      <th>smart_7_raw</th>\n",
       "      <th>smart_8_raw</th>\n",
       "      <th>smart_9_raw</th>\n",
       "      <th>smart_10_raw</th>\n",
       "    </tr>\n",
       "  </thead>\n",
       "  <tbody>\n",
       "    <tr>\n",
       "      <th>0</th>\n",
       "      <td>1</td>\n",
       "      <td>4000787030016</td>\n",
       "      <td>419</td>\n",
       "      <td>166497128</td>\n",
       "      <td>0</td>\n",
       "      <td>0</td>\n",
       "      <td>4</td>\n",
       "      <td>0</td>\n",
       "      <td>339701174</td>\n",
       "      <td>0</td>\n",
       "      <td>10137</td>\n",
       "      <td>0</td>\n",
       "    </tr>\n",
       "    <tr>\n",
       "      <th>1</th>\n",
       "      <td>2</td>\n",
       "      <td>4000787030016</td>\n",
       "      <td>420</td>\n",
       "      <td>51905616</td>\n",
       "      <td>0</td>\n",
       "      <td>0</td>\n",
       "      <td>4</td>\n",
       "      <td>0</td>\n",
       "      <td>340455664</td>\n",
       "      <td>0</td>\n",
       "      <td>10160</td>\n",
       "      <td>0</td>\n",
       "    </tr>\n",
       "    <tr>\n",
       "      <th>2</th>\n",
       "      <td>3</td>\n",
       "      <td>4000787030016</td>\n",
       "      <td>421</td>\n",
       "      <td>147568504</td>\n",
       "      <td>0</td>\n",
       "      <td>0</td>\n",
       "      <td>4</td>\n",
       "      <td>0</td>\n",
       "      <td>341490395</td>\n",
       "      <td>0</td>\n",
       "      <td>10190</td>\n",
       "      <td>0</td>\n",
       "    </tr>\n",
       "    <tr>\n",
       "      <th>3</th>\n",
       "      <td>4</td>\n",
       "      <td>4000787030016</td>\n",
       "      <td>422</td>\n",
       "      <td>4599640</td>\n",
       "      <td>0</td>\n",
       "      <td>0</td>\n",
       "      <td>4</td>\n",
       "      <td>0</td>\n",
       "      <td>342234422</td>\n",
       "      <td>0</td>\n",
       "      <td>10214</td>\n",
       "      <td>0</td>\n",
       "    </tr>\n",
       "    <tr>\n",
       "      <th>4</th>\n",
       "      <td>5</td>\n",
       "      <td>4000787030016</td>\n",
       "      <td>423</td>\n",
       "      <td>95941328</td>\n",
       "      <td>0</td>\n",
       "      <td>0</td>\n",
       "      <td>4</td>\n",
       "      <td>0</td>\n",
       "      <td>342967290</td>\n",
       "      <td>0</td>\n",
       "      <td>10238</td>\n",
       "      <td>0</td>\n",
       "    </tr>\n",
       "  </tbody>\n",
       "</table>\n",
       "</div>"
      ],
      "text/plain": [
       "   weekday  capacity_bytes  work_day  smart_1_raw  smart_2_raw  smart_3_raw  \\\n",
       "0        1   4000787030016       419    166497128            0            0   \n",
       "1        2   4000787030016       420     51905616            0            0   \n",
       "2        3   4000787030016       421    147568504            0            0   \n",
       "3        4   4000787030016       422      4599640            0            0   \n",
       "4        5   4000787030016       423     95941328            0            0   \n",
       "\n",
       "   smart_4_raw  smart_5_raw  smart_7_raw  smart_8_raw  smart_9_raw  \\\n",
       "0            4            0    339701174            0        10137   \n",
       "1            4            0    340455664            0        10160   \n",
       "2            4            0    341490395            0        10190   \n",
       "3            4            0    342234422            0        10214   \n",
       "4            4            0    342967290            0        10238   \n",
       "\n",
       "   smart_10_raw  \n",
       "0             0  \n",
       "1             0  \n",
       "2             0  \n",
       "3             0  \n",
       "4             0  "
      ]
     },
     "execution_count": 78,
     "metadata": {},
     "output_type": "execute_result"
    }
   ],
   "source": [
    "X_test.iloc[0:5,:12]"
   ]
  },
  {
   "cell_type": "code",
   "execution_count": 79,
   "metadata": {},
   "outputs": [
    {
     "data": {
      "text/plain": [
       "0    0\n",
       "1    0\n",
       "2    0\n",
       "3    0\n",
       "4    1\n",
       "Name: fails_soon, dtype: int32"
      ]
     },
     "execution_count": 79,
     "metadata": {},
     "output_type": "execute_result"
    }
   ],
   "source": [
    "Y_test.iloc[0:5]"
   ]
  },
  {
   "cell_type": "markdown",
   "metadata": {},
   "source": [
    "First we change Pandas dataframes to Numpy arrays. Then we scale data (train scaler should be used to scale test data too). Finally, we reshape data to get 3D data (num_samples, timesteps, num_featutes) needed to feed LSTM."
   ]
  },
  {
   "cell_type": "code",
   "execution_count": 80,
   "metadata": {},
   "outputs": [],
   "source": [
    "# X train data\n",
    "X_train = X_train.values\n",
    "X_train = X_train.astype(np.float64)\n",
    "standard_scaler = preprocessing.StandardScaler().fit(X_train)\n",
    "X_train = standard_scaler.transform(X_train)\n",
    "X_train = X_train.reshape(int(X_train.shape[0]/sample_days),sample_days,X_train.shape[1])\n",
    "# X test data\n",
    "X_test = X_test.values\n",
    "X_test = X_test.astype(np.float64)\n",
    "X_test = standard_scaler.transform(X_test)\n",
    "X_test = X_test.reshape(int(X_test.shape[0]/sample_days),sample_days,X_test.shape[1])"
   ]
  },
  {
   "cell_type": "code",
   "execution_count": 81,
   "metadata": {},
   "outputs": [],
   "source": [
    "# Y train daa\n",
    "Y_train = Y_train.values\n",
    "Y_train = Y_train[sample_days-1::sample_days]\n",
    "# Y test data\n",
    "Y_test = Y_test.values\n",
    "Y_test = Y_test[sample_days-1::sample_days]"
   ]
  },
  {
   "cell_type": "code",
   "execution_count": 82,
   "metadata": {},
   "outputs": [],
   "source": [
    "# shuffle all created datasets together to ensure variability\n",
    "IDX_train, X_train, Y_train = shuffle(IDX_train, X_train, Y_train)\n",
    "IDX_test, X_test, Y_test = shuffle(IDX_test, X_test, Y_test)"
   ]
  },
  {
   "cell_type": "code",
   "execution_count": 83,
   "metadata": {},
   "outputs": [
    {
     "data": {
      "text/plain": [
       "136"
      ]
     },
     "execution_count": 83,
     "metadata": {},
     "output_type": "execute_result"
    }
   ],
   "source": [
    "gc.collect()"
   ]
  },
  {
   "cell_type": "markdown",
   "metadata": {},
   "source": [
    "# 04. Neural Network training and evaluation"
   ]
  },
  {
   "cell_type": "markdown",
   "metadata": {},
   "source": [
    "Below is the definition of our DNN model. I use multi-layer DNN with three LSTM layers and 3 feed-forward layers. Our network performs classification tasks, predicting whether a given sample belongs to fails_soon  class (fails_soon = 1) or not fails_soon class (fails_soon = 0)"
   ]
  },
  {
   "cell_type": "code",
   "execution_count": 84,
   "metadata": {},
   "outputs": [],
   "source": [
    "dp_lvl = 0.2\n",
    "regularizer_lvl = 0.002\n",
    "# design network\n",
    "model = Sequential()\n",
    "model.add(LSTM(256, input_shape=(X_train.shape[1], X_train.shape[2]),dropout = dp_lvl,recurrent_dropout = dp_lvl, return_sequences =  True ))\n",
    "model.add(LSTM(256, dropout = dp_lvl,recurrent_dropout = dp_lvl, return_sequences =  True ))\n",
    "model.add(LSTM(256, dropout = dp_lvl,recurrent_dropout = dp_lvl, return_sequences =  False ))\n",
    "model.add(Dense(256, activation='sigmoid',activity_regularizer=regularizers.l2(regularizer_lvl)))\n",
    "model.add(Dense(256, activation='sigmoid',activity_regularizer=regularizers.l2(regularizer_lvl)))\n",
    "model.add(Dense(1, activation='sigmoid',activity_regularizer=regularizers.l2(regularizer_lvl)))\n",
    "epochs_num = 10\n",
    "learning_rate = 0.001\n",
    "decay_rate = 3 * learning_rate / epochs_num\n",
    "optimizer = optimizers.Adam(lr=learning_rate, beta_1=0.9, beta_2=0.999, epsilon=None,decay = decay_rate)\n",
    "model.compile(optimizer=optimizer,loss='binary_crossentropy',metrics=['accuracy'])"
   ]
  },
  {
   "cell_type": "markdown",
   "metadata": {},
   "source": [
    "I use quite small validation set for learning control, as the number of samples in training set is not too large. The ultimate test is done via test set anyway."
   ]
  },
  {
   "cell_type": "code",
   "execution_count": 85,
   "metadata": {},
   "outputs": [
    {
     "name": "stdout",
     "output_type": "stream",
     "text": [
      "Train on 18244 samples, validate on 2028 samples\n",
      "Epoch 1/10\n",
      "18244/18244 [==============================] - 86s 5ms/step - loss: 0.9430 - acc: 0.5779 - val_loss: 0.7258 - val_acc: 0.6879\n",
      "Epoch 2/10\n",
      "18244/18244 [==============================] - 77s 4ms/step - loss: 0.6933 - acc: 0.6758 - val_loss: 0.6423 - val_acc: 0.7066\n",
      "Epoch 3/10\n",
      "18244/18244 [==============================] - 78s 4ms/step - loss: 0.6410 - acc: 0.6984 - val_loss: 0.5897 - val_acc: 0.7327\n",
      "Epoch 4/10\n",
      "18244/18244 [==============================] - 78s 4ms/step - loss: 0.6091 - acc: 0.7137 - val_loss: 0.5739 - val_acc: 0.7377\n",
      "Epoch 5/10\n",
      "18244/18244 [==============================] - 77s 4ms/step - loss: 0.5903 - acc: 0.7221 - val_loss: 0.5761 - val_acc: 0.7283\n",
      "Epoch 6/10\n",
      "18244/18244 [==============================] - 84s 5ms/step - loss: 0.5791 - acc: 0.7251 - val_loss: 0.5524 - val_acc: 0.7431\n",
      "Epoch 7/10\n",
      "18244/18244 [==============================] - 89s 5ms/step - loss: 0.5695 - acc: 0.7266 - val_loss: 0.5670 - val_acc: 0.7229\n",
      "Epoch 8/10\n",
      "18244/18244 [==============================] - 80s 4ms/step - loss: 0.5639 - acc: 0.7307 - val_loss: 0.5473 - val_acc: 0.7461\n",
      "Epoch 9/10\n",
      "18244/18244 [==============================] - 79s 4ms/step - loss: 0.5581 - acc: 0.7340 - val_loss: 0.5466 - val_acc: 0.7377\n",
      "Epoch 10/10\n",
      "18244/18244 [==============================] - 81s 4ms/step - loss: 0.5542 - acc: 0.7352 - val_loss: 0.5318 - val_acc: 0.7579\n"
     ]
    }
   ],
   "source": [
    "# fit network\n",
    "with tf.device('/gpu:0'):\n",
    "    history = model.fit(X_train, Y_train, epochs=epochs_num, batch_size=16, validation_split=0.1, verbose=1, shuffle=True)"
   ]
  },
  {
   "cell_type": "code",
   "execution_count": 86,
   "metadata": {},
   "outputs": [
    {
     "data": {
      "image/png": "[encoded data removed]",
      "text/plain": [
       "<matplotlib.figure.Figure at 0x2712dd38710>"
      ]
     },
     "metadata": {},
     "output_type": "display_data"
    }
   ],
   "source": [
    "# show plot accuracy changes during training\n",
    "plt.plot(history.history['acc'],'g')\n",
    "plt.plot(history.history['val_acc'],'r')\n",
    "plt.title('accuracy across epochs')\n",
    "plt.ylabel('accuracy level')\n",
    "plt.xlabel('# epoch')\n",
    "plt.legend(['train', 'test'], loc='lower right')\n",
    "plt.show()"
   ]
  },
  {
   "cell_type": "code",
   "execution_count": 87,
   "metadata": {},
   "outputs": [
    {
     "name": "stdout",
     "output_type": "stream",
     "text": [
      "5184/5184 [==============================] - 3s 571us/step\n",
      "acc: 75.27%\n",
      "             precision    recall  f1-score   support\n",
      "\n",
      "          0       0.68      0.95      0.79      2570\n",
      "          1       0.92      0.56      0.70      2614\n",
      "\n",
      "avg / total       0.80      0.75      0.74      5184\n",
      "\n"
     ]
    }
   ],
   "source": [
    "scores = model.evaluate(X_test, Y_test, verbose=1)\n",
    "print(\"%s: %.2f%%\" % (model.metrics_names[1], scores[1]*100))\n",
    "Y_pred = model.predict_classes(X_test)\n",
    "Y_test = Y_test.reshape(Y_test.shape[0],1)\n",
    "print(classification_report(Y_test, Y_pred))"
   ]
  },
  {
   "cell_type": "markdown",
   "metadata": {},
   "source": [
    "This is interesting result: \n",
    "- The overall accuracy (73,53%) is good, but not impressive. \n",
    "- However, results for class 1 (disks that \"failed soon\" so within our predict_failure_days window) are quite interesting\n",
    "- Precision equal to 91% means that once our model predicts disk will \"fail soon\" it is correct roughly in 9 out of 10 cases\n",
    "- Recall equal to 50% means that we are able to identify half of failed disk from the whole pool of failed disks. The other half will go undetected.\n",
    "\n",
    "The resuls is still fairly acceptable for everyday business use. Even if we can detect only hald of failed disks, our model is definitely quite precise in failure prediction.\n",
    "NOTE: Remember this is machine learning (statistical) model. Your results can differ from mine to some extent."
   ]
  },
  {
   "cell_type": "markdown",
   "metadata": {},
   "source": [
    "Now we will play with our network to predict a few individual samples. You can re-run this cell manually as it select random disk from train set."
   ]
  },
  {
   "cell_type": "code",
   "execution_count": 89,
   "metadata": {},
   "outputs": [
    {
     "name": "stdout",
     "output_type": "stream",
     "text": [
      "Random disks: \n",
      " [[Timestamp('2015-12-20 00:00:00') 'Z300K99Q']\n",
      " [Timestamp('2015-04-11 00:00:00') 'Z3011WD7']\n",
      " [Timestamp('2016-10-03 00:00:00') 'S300Z4EB']\n",
      " [Timestamp('2016-07-04 00:00:00') 'Z305CKQX']\n",
      " [Timestamp('2015-12-20 00:00:00') 'Z304HS1X']\n",
      " [Timestamp('2016-07-25 00:00:00') 'Z3029FA4']\n",
      " [Timestamp('2016-01-24 00:00:00') 'Z3025Z3Q']\n",
      " [Timestamp('2015-05-17 00:00:00') 'W300R7RG']\n",
      " [Timestamp('2015-12-22 00:00:00') 'W3005PYL']\n",
      " [Timestamp('2016-01-07 00:00:00') 'Z302FZTY']\n",
      " [Timestamp('2017-05-10 00:00:00') 'W300H3HK']\n",
      " [Timestamp('2016-09-20 00:00:00') 'Z305D22K']\n",
      " [Timestamp('2015-03-11 00:00:00') 'Z302AYP0']\n",
      " [Timestamp('2017-05-25 00:00:00') 'Z300XGKG']\n",
      " [Timestamp('2017-10-28 00:00:00') 'Z3015CB6']\n",
      " [Timestamp('2017-12-04 00:00:00') 'Z305G3NP']\n",
      " [Timestamp('2017-02-07 00:00:00') 'Z300ZT4T']\n",
      " [Timestamp('2017-10-21 00:00:00') 'Z300JDZC']\n",
      " [Timestamp('2017-05-12 00:00:00') 'Z302FDDC']\n",
      " [Timestamp('2015-09-30 00:00:00') 'Z3029GYZ']]\n",
      "Y_test (real flags)         [0 0 0 1 0 1 1 1 0 1 1 0 0 1 0 0 0 1 0 0]\n",
      "Y_predict (predicted flags) [0 0 0 0 0 1 1 1 0 1 0 0 1 0 1 0 0 0 0 0]\n"
     ]
    }
   ],
   "source": [
    "radom_index = randrange(0,X_test.shape[0])\n",
    "num_samples = 20\n",
    "print (\"Random disks: \\n\",IDX_test[radom_index:radom_index+num_samples,:])\n",
    "print (\"Y_test (real flags)        \",Y_test[radom_index:radom_index+num_samples,:][:,0])\n",
    "X_test_sample = X_test[radom_index:radom_index+num_samples,:,:]\n",
    "Y_pred_sample = model.predict_classes(X_test_sample)[:,0]\n",
    "print (\"Y_predict (predicted flags)\",Y_pred_sample)"
   ]
  },
  {
   "cell_type": "code",
   "execution_count": null,
   "metadata": {},
   "outputs": [],
   "source": []
  }
 ],
 "metadata": {
  "kernelspec": {
   "display_name": "Python 3",
   "language": "python",
   "name": "python3"
  },
  "language_info": {
   "codemirror_mode": {
    "name": "ipython",
    "version": 3
   },
   "file_extension": ".py",
   "mimetype": "text/x-python",
   "name": "python",
   "nbconvert_exporter": "python",
   "pygments_lexer": "ipython3",
   "version": "3.6.4"
  }
 },
 "nbformat": 4,
 "nbformat_minor": 2
}
